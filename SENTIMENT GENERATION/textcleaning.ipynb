{
 "cells": [
  {
   "cell_type": "code",
   "execution_count": 268,
   "metadata": {},
   "outputs": [
    {
     "name": "stderr",
     "output_type": "stream",
     "text": [
      "[nltk_data] Downloading package stopwords to\n",
      "[nltk_data]     /Users/parthmalik/nltk_data...\n",
      "[nltk_data]   Package stopwords is already up-to-date!\n",
      "[nltk_data] Downloading package wordnet to\n",
      "[nltk_data]     /Users/parthmalik/nltk_data...\n",
      "[nltk_data]   Package wordnet is already up-to-date!\n",
      "[nltk_data] Downloading package punkt to\n",
      "[nltk_data]     /Users/parthmalik/nltk_data...\n",
      "[nltk_data]   Package punkt is already up-to-date!\n",
      "[nltk_data] Downloading package brown to\n",
      "[nltk_data]     /Users/parthmalik/nltk_data...\n",
      "[nltk_data]   Package brown is already up-to-date!\n",
      "[nltk_data] Downloading package vader_lexicon to\n",
      "[nltk_data]     /Users/parthmalik/nltk_data...\n",
      "[nltk_data]   Package vader_lexicon is already up-to-date!\n"
     ]
    }
   ],
   "source": [
    "import pandas as pd \n",
    "pd.set_option('max_colwidth', None)\n",
    "pd.options.display.max_rows = 10000\n",
    "import re\n",
    "import html\n",
    "from numpy import NaN\n",
    "import spacy\n",
    "import nltk\n",
    "from nltk.corpus import stopwords\n",
    "from nltk.stem import WordNetLemmatizer\n",
    "import matplotlib.pyplot as plt\n",
    "import numpy as np \n",
    "from collections import Counter\n",
    "\n",
    "from nltk.tokenize import word_tokenize\n",
    "from nltk.util import ngrams\n",
    "from heapq import nlargest\n",
    "\n",
    "nlp = spacy.load(\"en_core_web_sm\")\n",
    "nltk.download('stopwords')\n",
    "nltk.download('wordnet')\n",
    "nltk.download('punkt')\n",
    "nltk.download('brown')\n",
    "nltk.download('vader_lexicon')\n",
    "\n",
    "import contractions\n",
    "import torch\n",
    "\n",
    "\n",
    "\n",
    "\n"
   ]
  },
  {
   "cell_type": "code",
   "execution_count": 215,
   "metadata": {},
   "outputs": [],
   "source": [
    "# LOAD + DATE SET + SORT ASC BY DATE\n",
    "file = './TweetsFinalFiltered.csv'\n",
    "df = pd.read_csv(file, low_memory=False)\n",
    "df['created_at'] = pd.to_datetime(df['created_at'], format='%Y-%m-%d')\n",
    "df = df.sort_values('created_at')"
   ]
  },
  {
   "cell_type": "code",
   "execution_count": 216,
   "metadata": {},
   "outputs": [],
   "source": [
    "from ff_dict import merge\n",
    "sf_ff_dict = merge()\n",
    "sf_ff_dict['TA'] = 'Technical Analysis'"
   ]
  },
  {
   "cell_type": "code",
   "execution_count": 217,
   "metadata": {},
   "outputs": [
    {
     "data": {
      "text/html": [
       "<div>\n",
       "<style scoped>\n",
       "    .dataframe tbody tr th:only-of-type {\n",
       "        vertical-align: middle;\n",
       "    }\n",
       "\n",
       "    .dataframe tbody tr th {\n",
       "        vertical-align: top;\n",
       "    }\n",
       "\n",
       "    .dataframe thead th {\n",
       "        text-align: right;\n",
       "    }\n",
       "</style>\n",
       "<table border=\"1\" class=\"dataframe\">\n",
       "  <thead>\n",
       "    <tr style=\"text-align: right;\">\n",
       "      <th></th>\n",
       "      <th>created_at</th>\n",
       "      <th>entities</th>\n",
       "      <th>like_count</th>\n",
       "      <th>quote_count</th>\n",
       "      <th>reply_count</th>\n",
       "      <th>retweet_count</th>\n",
       "      <th>full_text</th>\n",
       "      <th>coin_id</th>\n",
       "      <th>datasource</th>\n",
       "    </tr>\n",
       "  </thead>\n",
       "  <tbody>\n",
       "    <tr>\n",
       "      <th>0</th>\n",
       "      <td>2021-02-01</td>\n",
       "      <td>NaN</td>\n",
       "      <td>154</td>\n",
       "      <td>NaN</td>\n",
       "      <td>18</td>\n",
       "      <td>23</td>\n",
       "      <td>#privacy is a human right. learn how to make your #bitcoin transactions more private in this clip: https://t.co/fnadsxffcu https://t.co/nznajw8g2m</td>\n",
       "      <td>btc</td>\n",
       "      <td>influtweets</td>\n",
       "    </tr>\n",
       "    <tr>\n",
       "      <th>1</th>\n",
       "      <td>2021-02-01</td>\n",
       "      <td>NaN</td>\n",
       "      <td>65</td>\n",
       "      <td>NaN</td>\n",
       "      <td>8</td>\n",
       "      <td>13</td>\n",
       "      <td>attended any of the 30+ livestream events iâve held over the last year? together, weâve learned a lot about #bitcoin #ethereum &amp;amp; #lightningnetwork. starting this month iâll be moving them to sundays. subscribe to be notified as they're announced: https://t.co/rgoqfv22mr https://t.co/ec4ugzrilq</td>\n",
       "      <td>amp</td>\n",
       "      <td>influtweets</td>\n",
       "    </tr>\n",
       "    <tr>\n",
       "      <th>2</th>\n",
       "      <td>2021-02-01</td>\n",
       "      <td>NaN</td>\n",
       "      <td>65</td>\n",
       "      <td>NaN</td>\n",
       "      <td>8</td>\n",
       "      <td>13</td>\n",
       "      <td>attended any of the 30+ livestream events iâve held over the last year? together, weâve learned a lot about #bitcoin #ethereum &amp;amp; #lightningnetwork. starting this month iâll be moving them to sundays. subscribe to be notified as they're announced: https://t.co/rgoqfv22mr https://t.co/ec4ugzrilq</td>\n",
       "      <td>btc</td>\n",
       "      <td>influtweets</td>\n",
       "    </tr>\n",
       "    <tr>\n",
       "      <th>3</th>\n",
       "      <td>2021-02-01</td>\n",
       "      <td>NaN</td>\n",
       "      <td>65</td>\n",
       "      <td>NaN</td>\n",
       "      <td>8</td>\n",
       "      <td>13</td>\n",
       "      <td>attended any of the 30+ livestream events iâve held over the last year? together, weâve learned a lot about #bitcoin #ethereum &amp;amp; #lightningnetwork. starting this month iâll be moving them to sundays. subscribe to be notified as they're announced: https://t.co/rgoqfv22mr https://t.co/ec4ugzrilq</td>\n",
       "      <td>eth</td>\n",
       "      <td>influtweets</td>\n",
       "    </tr>\n",
       "    <tr>\n",
       "      <th>4</th>\n",
       "      <td>2021-02-01</td>\n",
       "      <td>{'cashtags': [{'start': 19, 'end': 23, 'tag': 'STC'}, {'start': 28, 'end': 33, 'tag': 'WELL'}]}</td>\n",
       "      <td>1</td>\n",
       "      <td>1.0</td>\n",
       "      <td>1</td>\n",
       "      <td>1</td>\n",
       "      <td>Own shares in both $STC and $WELL</td>\n",
       "      <td>stc</td>\n",
       "      <td>othertweets</td>\n",
       "    </tr>\n",
       "  </tbody>\n",
       "</table>\n",
       "</div>"
      ],
      "text/plain": [
       "  created_at  \\\n",
       "0 2021-02-01   \n",
       "1 2021-02-01   \n",
       "2 2021-02-01   \n",
       "3 2021-02-01   \n",
       "4 2021-02-01   \n",
       "\n",
       "                                                                                          entities  \\\n",
       "0                                                                                              NaN   \n",
       "1                                                                                              NaN   \n",
       "2                                                                                              NaN   \n",
       "3                                                                                              NaN   \n",
       "4  {'cashtags': [{'start': 19, 'end': 23, 'tag': 'STC'}, {'start': 28, 'end': 33, 'tag': 'WELL'}]}   \n",
       "\n",
       "   like_count  quote_count  reply_count  retweet_count  \\\n",
       "0         154          NaN           18             23   \n",
       "1          65          NaN            8             13   \n",
       "2          65          NaN            8             13   \n",
       "3          65          NaN            8             13   \n",
       "4           1          1.0            1              1   \n",
       "\n",
       "                                                                                                                                                                                                                                                                                                          full_text  \\\n",
       "0                                                                                                                                                                #privacy is a human right. learn how to make your #bitcoin transactions more private in this clip: https://t.co/fnadsxffcu https://t.co/nznajw8g2m   \n",
       "1  attended any of the 30+ livestream events iâve held over the last year? together, weâve learned a lot about #bitcoin #ethereum &amp; #lightningnetwork. starting this month iâll be moving them to sundays. subscribe to be notified as they're announced: https://t.co/rgoqfv22mr https://t.co/ec4ugzrilq   \n",
       "2  attended any of the 30+ livestream events iâve held over the last year? together, weâve learned a lot about #bitcoin #ethereum &amp; #lightningnetwork. starting this month iâll be moving them to sundays. subscribe to be notified as they're announced: https://t.co/rgoqfv22mr https://t.co/ec4ugzrilq   \n",
       "3  attended any of the 30+ livestream events iâve held over the last year? together, weâve learned a lot about #bitcoin #ethereum &amp; #lightningnetwork. starting this month iâll be moving them to sundays. subscribe to be notified as they're announced: https://t.co/rgoqfv22mr https://t.co/ec4ugzrilq   \n",
       "4                                                                                                                                                                                                                                                                                 Own shares in both $STC and $WELL   \n",
       "\n",
       "  coin_id   datasource  \n",
       "0     btc  influtweets  \n",
       "1     amp  influtweets  \n",
       "2     btc  influtweets  \n",
       "3     eth  influtweets  \n",
       "4     stc  othertweets  "
      ]
     },
     "execution_count": 217,
     "metadata": {},
     "output_type": "execute_result"
    }
   ],
   "source": [
    "df.head()"
   ]
  },
  {
   "cell_type": "code",
   "execution_count": 218,
   "metadata": {},
   "outputs": [
    {
     "data": {
      "text/html": [
       "<div>\n",
       "<style scoped>\n",
       "    .dataframe tbody tr th:only-of-type {\n",
       "        vertical-align: middle;\n",
       "    }\n",
       "\n",
       "    .dataframe tbody tr th {\n",
       "        vertical-align: top;\n",
       "    }\n",
       "\n",
       "    .dataframe thead th {\n",
       "        text-align: right;\n",
       "    }\n",
       "</style>\n",
       "<table border=\"1\" class=\"dataframe\">\n",
       "  <thead>\n",
       "    <tr style=\"text-align: right;\">\n",
       "      <th></th>\n",
       "      <th>created_at</th>\n",
       "      <th>entities</th>\n",
       "      <th>like_count</th>\n",
       "      <th>quote_count</th>\n",
       "      <th>reply_count</th>\n",
       "      <th>retweet_count</th>\n",
       "      <th>full_text</th>\n",
       "      <th>coin_id</th>\n",
       "      <th>datasource</th>\n",
       "    </tr>\n",
       "  </thead>\n",
       "  <tbody>\n",
       "    <tr>\n",
       "      <th>272253</th>\n",
       "      <td>2023-06-12</td>\n",
       "      <td>NaN</td>\n",
       "      <td>0</td>\n",
       "      <td>NaN</td>\n",
       "      <td>0</td>\n",
       "      <td>8</td>\n",
       "      <td>rt @crypto_crib_: ð²chinese bank boci issues country's first tokenized security on ethereum blockchain. https://t.co/yeoudbbqzc</td>\n",
       "      <td>eth</td>\n",
       "      <td>influtweets</td>\n",
       "    </tr>\n",
       "    <tr>\n",
       "      <th>272252</th>\n",
       "      <td>2023-06-12</td>\n",
       "      <td>NaN</td>\n",
       "      <td>56</td>\n",
       "      <td>NaN</td>\n",
       "      <td>16</td>\n",
       "      <td>7</td>\n",
       "      <td>bitcoin, not crypto.\\n\\ncrypto, not security.</td>\n",
       "      <td>btc</td>\n",
       "      <td>influtweets</td>\n",
       "    </tr>\n",
       "    <tr>\n",
       "      <th>272251</th>\n",
       "      <td>2023-06-12</td>\n",
       "      <td>NaN</td>\n",
       "      <td>1</td>\n",
       "      <td>NaN</td>\n",
       "      <td>9</td>\n",
       "      <td>0</td>\n",
       "      <td>new gap cme - 26400 ð\\n\\nno better time to join...\\n60% offð¥ð¥ð¥\\nclickð\\nhttps://t.co/tcetr8tf7t\\n\\n$btc $eth $lina $xrp $arb $bnb $ltc $key $amb $sui\\n$amb $bts $nkn $syn $ldo $combo $qkc $rdnt $mdt $inj https://t.co/qaryyzrfuq</td>\n",
       "      <td>xrp</td>\n",
       "      <td>influtweets</td>\n",
       "    </tr>\n",
       "    <tr>\n",
       "      <th>272258</th>\n",
       "      <td>2023-06-12</td>\n",
       "      <td>NaN</td>\n",
       "      <td>3</td>\n",
       "      <td>NaN</td>\n",
       "      <td>5</td>\n",
       "      <td>0</td>\n",
       "      <td>booomð¥\\n\\nour #ai bot/indicator crushes another $lina trade perfectly! ð¾ð°\\n\\n#lina tp #9â\\nperiod: 1 day 26 minâ°\\nprofit: +1,391.19%ð´\\n\\n(2) $99 lifetime memberships left ð¥\\npay via usdt (trc20)ð \\ntzfsdngc7n5gvgxsbfgc4mivqpjymfde6t\\n\\n#doge #apt #kas #hbar #ftm #inj #matic $pepe https://t.co/4qqsjur2dp</td>\n",
       "      <td>usdt</td>\n",
       "      <td>influtweets</td>\n",
       "    </tr>\n",
       "    <tr>\n",
       "      <th>272460</th>\n",
       "      <td>2023-06-12</td>\n",
       "      <td>NaN</td>\n",
       "      <td>0</td>\n",
       "      <td>NaN</td>\n",
       "      <td>0</td>\n",
       "      <td>8</td>\n",
       "      <td>rt @crypto_crib_: jpmorgan calls for \"comprehensive framework\" after sec's lawsuit on binance &amp;amp; coinbase; urges law-makers to adopt sec staâ¦</td>\n",
       "      <td>amp</td>\n",
       "      <td>influtweets</td>\n",
       "    </tr>\n",
       "  </tbody>\n",
       "</table>\n",
       "</div>"
      ],
      "text/plain": [
       "       created_at entities  like_count  quote_count  reply_count  \\\n",
       "272253 2023-06-12      NaN           0          NaN            0   \n",
       "272252 2023-06-12      NaN          56          NaN           16   \n",
       "272251 2023-06-12      NaN           1          NaN            9   \n",
       "272258 2023-06-12      NaN           3          NaN            5   \n",
       "272460 2023-06-12      NaN           0          NaN            0   \n",
       "\n",
       "        retweet_count  \\\n",
       "272253              8   \n",
       "272252              7   \n",
       "272251              0   \n",
       "272258              0   \n",
       "272460              8   \n",
       "\n",
       "                                                                                                                                                                                                                                                                                                                                     full_text  \\\n",
       "272253                                                                                                                                                                                                       rt @crypto_crib_: ð²chinese bank boci issues country's first tokenized security on ethereum blockchain. https://t.co/yeoudbbqzc   \n",
       "272252                                                                                                                                                                                                                                                                                           bitcoin, not crypto.\\n\\ncrypto, not security.   \n",
       "272251                                                                                      new gap cme - 26400 ð\\n\\nno better time to join...\\n60% offð¥ð¥ð¥\\nclickð\\nhttps://t.co/tcetr8tf7t\\n\\n$btc $eth $lina $xrp $arb $bnb $ltc $key $amb $sui\\n$amb $bts $nkn $syn $ldo $combo $qkc $rdnt $mdt $inj https://t.co/qaryyzrfuq   \n",
       "272258  booomð¥\\n\\nour #ai bot/indicator crushes another $lina trade perfectly! ð¾ð°\\n\\n#lina tp #9â\n",
       "\\nperiod: 1 day 26 minâ°\\nprofit: +1,391.19%ð´\\n\\n(2) $99 lifetime memberships left ð¥\\npay via usdt (trc20)ð \\ntzfsdngc7n5gvgxsbfgc4mivqpjymfde6t\\n\\n#doge #apt #kas #hbar #ftm #inj #matic $pepe https://t.co/4qqsjur2dp   \n",
       "272460                                                                                                                                                                                      rt @crypto_crib_: jpmorgan calls for \"comprehensive framework\" after sec's lawsuit on binance &amp; coinbase; urges law-makers to adopt sec staâ¦   \n",
       "\n",
       "       coin_id   datasource  \n",
       "272253     eth  influtweets  \n",
       "272252     btc  influtweets  \n",
       "272251     xrp  influtweets  \n",
       "272258    usdt  influtweets  \n",
       "272460     amp  influtweets  "
      ]
     },
     "execution_count": 218,
     "metadata": {},
     "output_type": "execute_result"
    }
   ],
   "source": [
    "df.tail()"
   ]
  },
  {
   "cell_type": "markdown",
   "metadata": {},
   "source": [
    "**1. Frequency Analysis of Words and Phrases**"
   ]
  },
  {
   "cell_type": "code",
   "execution_count": 177,
   "metadata": {},
   "outputs": [
    {
     "name": "stdout",
     "output_type": "stream",
     "text": [
      "[('the', 135531), ('to', 100692), ('and', 81083), ('on', 72263), ('a', 59836), ('is', 57952), ('in', 57121), ('for', 53357), ('of', 45271), ('$ETH', 43348)]\n",
      "[(('to', 'the'), 11342), (('in', 'the'), 11040), (('on', 'the'), 10531), (('$BTC', '$ETH'), 10015), (('will', 'be'), 8892), (('for', 'the'), 8884), (('#safemoon', '#safemars'), 7997), (('is', 'a'), 7298), (('of', 'the'), 6715), (('$btc', '$eth'), 6489)]\n"
     ]
    }
   ],
   "source": [
    "texts = df['full_text']\n",
    "\n",
    "# Tokenization\n",
    "tokens = [token for text in texts for token in text.split()]\n",
    "\n",
    "# Single words frequency\n",
    "word_freq = Counter(tokens)\n",
    "\n",
    "# Bigrams frequency\n",
    "bigrams = Counter(ngrams(tokens, 2))\n",
    "\n",
    "print(word_freq.most_common(10))\n",
    "print(bigrams.most_common(10))"
   ]
  },
  {
   "cell_type": "markdown",
   "metadata": {},
   "source": [
    "**2. Analysis of Special Characters and Non-Standard Text**"
   ]
  },
  {
   "cell_type": "code",
   "execution_count": 178,
   "metadata": {},
   "outputs": [
    {
     "name": "stdout",
     "output_type": "stream",
     "text": [
      "[('$', 1407434), ('#', 954730), ('/', 672667), ('.', 526549), ('@', 366772), (':', 324501), (',', 158908), ('!', 151180), ('🚀', 86136), ('-', 78267), ('_', 71245), ('%', 67332), (\"'\", 40816), (')', 36585), ('🔥', 36193), ('(', 34220), ('️', 32537), ('\\x9f', 31973), (';', 31910), ('ð', 31138), ('&', 26389), ('?', 23838), ('✅', 23216), ('â', 20239), ('+', 19117), ('’', 14440), ('💎', 11689), ('\"', 11090), ('\\x80', 10670), ('💰', 9848), ('🎉', 9741), ('\\x8f', 9631), ('\\x92', 9142), ('¸', 8653), ('ï', 8075), ('🟢', 7316), ('£', 7101), ('¥', 6599), ('\\x83', 6466), ('👉', 6403), ('\\x91', 5887), ('|', 5869), ('*', 5866), ('🤑', 5379), ('🟡', 4928), ('👑', 4892), ('\\x87', 4702), ('=', 4517), ('🥞', 4273), ('👇', 4186), ('💵', 4166), ('📈', 4099), ('💥', 4023), ('➡', 4008), ('[', 3846), (']', 3841), ('❤', 3555), ('⇝', 3510), ('¦', 3473), ('⚡', 3372), ('🏻', 3360), ('\\x99', 3358), ('\\x9c', 3304), ('👌', 3247), ('\\x94', 3211), ('💯', 3206), ('📥', 3110), ('☁', 3023), ('°', 3004), ('\\x90', 2992), ('🚨', 2964), ('😍', 2920), ('💸', 2857), ('👀', 2855), ('🌕', 2677), ('👍', 2671), ('🎯', 2640), ('…', 2630), ('😎', 2606), ('🐶', 2581), ('🙌', 2507), ('💪', 2337), ('💲', 2327), ('³', 2245), ('🔸', 2223), ('🤩', 2088), ('\\u200d', 2061), ('~', 1987), ('💣', 1890), ('🍰', 1834), ('🎂', 1831), ('🧁', 1816), ('\\x9a', 1781), ('\\x93', 1769), ('🔴', 1761), ('💶', 1740), ('´', 1689), ('⃣', 1674), ('\\x8d', 1651), ('‼', 1582), ('⚽', 1534), ('\\x89', 1499), ('💴', 1451), ('💷', 1427), ('⬆', 1407), ('€', 1398), ('😂', 1391), ('⬅', 1355), ('🥳', 1337), ('👶', 1334), ('👈', 1311), ('🙏', 1280), ('🌸', 1262), ('–', 1215), ('🧠', 1157), ('✨', 1125), ('¢', 1119), ('\\x8e', 1091), ('“', 1070), ('🤝', 1066), ('🔐', 1045), ('⭐', 1044), ('🤣', 1043), ('🍣', 1042), ('¨', 1030), ('📉', 1009), ('İ', 1004), ('🌐', 995), ('🔋', 986), ('🤯', 973), ('🔻', 956), ('🚥', 955), ('🙈', 928), ('\\x9d', 914), ('😉', 908), ('🐳', 905), ('¤', 841), ('🌖', 840), ('»', 805), ('\\x8c', 804), ('\\x98', 793), ('🗓', 788), ('”', 786), ('\\x88', 778), ('🌙', 768), ('🔒', 766), ('✌', 761), ('🇳', 759), ('♂', 746), ('▶', 746), ('🏼', 719), ('¾', 718), ('🪙', 714), ('👏', 712), ('\\x8b', 688), ('🤗', 687), ('🗣', 681), ('🥰', 670), ('🇮', 667), ('😊', 659), ('🎇', 659), ('ä', 650), ('💋', 647), ('💻', 640), ('⏱', 632), ('\\x84', 619), ('💫', 603), ('—', 600), ('📞', 594), ('♾', 592), ('🟩', 590), ('¼', 589), ('🤔', 587), ('⬇', 585), ('¹', 581), ('🌊', 558), ('§', 553), ('✈', 542), ('👥', 541), ('🌜', 541), ('¡', 540), ('😁', 539), ('📢', 533), ('✔', 530), ('\\x97', 518), ('♥', 511), ('🌎', 511), ('💚', 509), ('🔄', 503), ('✴', 502), ('🌑', 492), ('🙋', 490), ('🇷', 487), ('🐻', 485), ('\\x86', 485), ('☄', 484), ('🏽', 474), ('♻', 471), ('🥮', 463), ('«', 462), ('🌚', 459), ('💬', 458), ('🎁', 457), ('🐋', 457), ('👨', 448), ('🔰', 441), ('🥇', 441), ('🐟', 441), ('\\x9e', 438), ('👽', 436), ('↗', 435), ('🏆', 423), ('☑', 420), ('¯', 403), ('￼', 396), ('🔫', 396), ('🏪', 393), ('😱', 390), ('🐦', 388), ('🇺', 387), ('🇧', 381), ('ª', 380), ('⏭', 378), ('📍', 377), ('😘', 375), ('🧱', 375), ('🇸', 374), ('😅', 367), ('↪', 367), ('🆙', 359), ('😮', 356), ('👩', 353), ('🙂', 350), ('🌟', 348), ('📝', 347), ('🤞', 343), ('📳', 337), ('🥖', 333), ('🍀', 330), ('\\x96', 325), ('🔹', 322), ('🍩', 318), ('【', 316), ('】', 316), ('¬', 316), ('📊', 315), ('🦍', 314), ('🦙', 312), ('√', 306), ('🔜', 302), ('🟥', 301), ('🗽', 299), ('‘', 297), ('🥯', 296), ('🎙', 295), ('🥨', 294), ('\\x81', 292), ('ℹ', 291), ('🤟', 291), ('⚠', 284), ('•', 283), ('😭', 282), ('🌝', 282), ('👆', 281), ('📱', 281), ('📣', 277), ('®', 277), ('✍', 275), ('❗', 274), ('ı', 273), ('🏧', 273), ('µ', 267), ('⚔', 264), ('😀', 263), ('🔔', 262), ('\\x82', 261), ('🥂', 261), ('⟶', 259), ('ã', 257), ('🐕', 253), ('🍏', 253), ('➖', 251), ('♀', 244), ('º', 240), ('🍑', 240), ('⚙', 240), ('🐉', 240), ('🤷', 239), ('🎮', 234), ('💱', 232), ('☺', 229), ('Đ', 228), ('🧨', 223), ('😜', 221), ('⛔', 221), ('🎊', 221), ('·', 221), ('🤖', 220), ('🧐', 218), ('🦄', 218), ('🛸', 216), ('ă', 215), ('❌', 215), ('⏰', 214), ('🏾', 214), ('©', 214), ('⏏', 214), ('💛', 213), ('：', 210), ('🐂', 209), ('🪐', 208), ('🤪', 207), ('💙', 206), ('📲', 202), ('🤡', 202), ('🍎', 199), ('🤘', 197), ('🌈', 192), ('＃', 192), ('📌', 191), ('🦸', 191), ('😇', 187), ('☝', 185), ('\\x95', 181), ('😬', 178), ('🔗', 175), ('🟣', 175), ('💖', 172), ('🍻', 171), ('🏿', 170), ('🔝', 168), ('🥉', 168), ('🇹', 167), ('🧑', 167), ('🥈', 167), ('😃', 166), ('🌀', 166), ('🌍', 165), ('ü', 165), ('🖥', 165), ('🗼', 165), ('︼', 165), ('🐹', 164), ('\\x9b', 157), ('😋', 156), ('｡', 156), ('🤫', 155), ('🐬', 155), ('✓', 153), ('¶', 152), ('🤠', 151), ('😏', 150), ('☕', 150), ('🀄', 149), ('😳', 148), ('😈', 147), ('₿', 147), ('⏳', 145), ('\\u200b', 145), ('💡', 145), ('😸', 145), ('🌛', 143), ('\\x8a', 143), ('😄', 140), ('🦾', 140), ('𝚃', 140), ('🕵', 137), ('👁', 136), ('👹', 136), ('💕', 135), ('🦎', 135), ('🧮', 135), ('🔊', 135), ('😆', 134), ('±', 129), ('🐵', 129), ('🇬', 129), ('π', 126), ('❯', 126), ('🐆', 125), ('^', 124), ('🇨', 122), ('▰', 122), ('👊', 121), ('𝚎', 121), ('★', 121), ('🐰', 120), ('🏦', 119), ('🌋', 119), ('✊', 119), ('🔶', 118), ('▱', 118), ('👎', 117), ('🦇', 117), ('🌾', 116), ('⤵', 116), ('`', 116), ('📨', 116), ('🤦', 115), ('🌞', 113), ('︻', 113), ('\\xad', 112), ('🥺', 111), ('ا', 109), ('🦈', 109), ('⚪', 108), ('💹', 107), ('🙄', 106), ('▲', 105), ('☀', 104), ('💞', 103), ('💜', 103), ('🏫', 103), ('🟠', 102), ('\\u2066', 101), ('이', 100), ('🙊', 99), ('🌒', 97), ('🆕', 97), ('🏋', 97), ('티', 97), ('즈', 96), ('에', 96), ('ل', 95), ('✉', 95), ('Ξ', 95), ('▪', 94), ('\\u2069', 94), ('📺', 93), ('🤓', 92), ('💩', 92), ('🇦', 92), ('²', 91), ('\\u200c', 90), ('☠', 90), ('☯', 90), ('×', 89), ('🌔', 89), ('😼', 89), ('🔁', 88), ('🇵', 88), ('😡', 87), ('🤲', 87), ('🙃', 85), ('😌', 85), ('📅', 85), ('🌱', 83), ('🐝', 83), ('🍭', 83), ('🤙', 82), ('✖', 82), ('🎵', 82), ('𝚑', 81), ('𝚜', 80), ('𝚒', 80), ('𝚖', 80), ('𝚊', 80), ('━', 79), ('🎨', 79), ('⏫', 79), ('⏬', 78), ('😪', 77), ('🔟', 76), ('💗', 76), ('🪴', 76), ('å', 75), ('💃', 75), ('📰', 74), ('🍞', 74), ('🔷', 73), ('🍉', 73), ('📜', 72), ('🍜', 71), ('🌶', 71), ('😤', 70), ('⏩', 70), ('🏰', 70), ('👋', 69), ('🤭', 68), ('📡', 68), ('→', 68), ('🚤', 68), ('م', 68), ('🌧', 67), ('🏃', 67), ('🔺', 67), ('🤤', 66), ('😻', 66), ('🚫', 66), ('💳', 65), ('！', 65), ('Ç', 65), ('🥢', 65), ('🌌', 64), ('🥲', 64), ('🍾', 64), ('⌛', 63), ('🎈', 63), ('🔮', 62), ('™', 62)]\n"
     ]
    }
   ],
   "source": [
    "special_chars = Counter()\n",
    "\n",
    "for text in texts:\n",
    "    special_chars.update(Counter(re.findall(r'[^a-zA-Z0-9\\s]', text)))\n",
    "\n",
    "print(special_chars.most_common(500))"
   ]
  },
  {
   "cell_type": "markdown",
   "metadata": {},
   "source": [
    "**3. Hashtag and Mention Analysis**"
   ]
  },
  {
   "cell_type": "code",
   "execution_count": 164,
   "metadata": {},
   "outputs": [
    {
     "name": "stdout",
     "output_type": "stream",
     "text": [
      "[('#safemars', 34710), ('#SAFEMARS', 32582), ('#BSC', 26541), ('#safemoon', 19919), ('#BNB', 18402), ('#SAFEMOON', 16897), ('#bitcoin', 16580), ('#dogecoin', 14931), ('#doge', 14586), ('#btc', 13601)]\n",
      "[('@Safemartians', 12030), ('@elonmusk', 7673), ('@binance', 4960), ('@Royale_Finance', 4897), ('@cz_binance', 4501), ('@PancakeSwap', 4270), ('@CoinMarketCap', 3696), ('@ALTSTEINN', 3225), ('@DEG_APE', 2805), ('@CROSSSWAPDEX', 2728)]\n"
     ]
    }
   ],
   "source": [
    "hashtags = Counter()\n",
    "mentions = Counter()\n",
    "\n",
    "for text in texts:\n",
    "    hashtags.update(Counter(re.findall(r'#\\w+', text)))\n",
    "    mentions.update(Counter(re.findall(r'@\\w+', text)))\n",
    "\n",
    "print(hashtags.most_common(10))\n",
    "print(mentions.most_common(10))"
   ]
  },
  {
   "cell_type": "markdown",
   "metadata": {},
   "source": [
    "**4. URL Analysis**"
   ]
  },
  {
   "cell_type": "code",
   "execution_count": 179,
   "metadata": {},
   "outputs": [
    {
     "name": "stdout",
     "output_type": "stream",
     "text": [
      "Number of tweets with URLs: 168501\n"
     ]
    }
   ],
   "source": [
    "url_count = sum(bool(re.search(r'https?://\\S+|www\\.\\S+', text)) for text in texts)\n",
    "print(f\"Number of tweets with URLs: {url_count}\")\n"
   ]
  },
  {
   "cell_type": "markdown",
   "metadata": {},
   "source": [
    "**5. Length and Readability Analysis**"
   ]
  },
  {
   "cell_type": "code",
   "execution_count": 180,
   "metadata": {},
   "outputs": [
    {
     "name": "stdout",
     "output_type": "stream",
     "text": [
      "Average word count: 27.571971768436583\n"
     ]
    }
   ],
   "source": [
    "word_counts = [len(text.split()) for text in texts]\n",
    "print(f\"Average word count: {sum(word_counts) / len(word_counts)}\")"
   ]
  },
  {
   "cell_type": "markdown",
   "metadata": {},
   "source": [
    "**6. Contextual Analysis of Crypto Terms**"
   ]
  },
  {
   "cell_type": "code",
   "execution_count": 181,
   "metadata": {},
   "outputs": [],
   "source": [
    "def abbreviations_match_check_3(crypto_dict, texts, max_samples=20):\n",
    "    match_words_in_full_text = {}\n",
    "    non_match_words = {}\n",
    "    sample_texts = {}\n",
    "\n",
    "    for term in crypto_dict.keys():\n",
    "        term_pattern = r'\\b' + re.escape(term) + r'\\b'  # Matches the term as a whole word\n",
    "        term_count = 0\n",
    "        samples = []\n",
    "\n",
    "        for text in texts:\n",
    "            if re.search(term_pattern, text):\n",
    "                term_count += 1\n",
    "                if len(samples) < max_samples:\n",
    "                    samples.append(text)\n",
    "\n",
    "        if term_count == 0:\n",
    "            non_match_words[term] = term_count\n",
    "        else:\n",
    "            match_words_in_full_text[term] = term_count\n",
    "            sample_texts[term] = samples\n",
    "\n",
    "    match_words_in_full_text = dict(sorted(match_words_in_full_text.items(), key=lambda x: x[1], reverse=True))\n",
    "    non_match_words = dict(sorted(non_match_words.items(), key=lambda x: x[1], reverse=True))\n",
    "\n",
    "    return match_words_in_full_text, non_match_words, sample_texts\n",
    "\n",
    "# Example usage\n",
    "matched_abbreviations_frequency_dict, non_matched_abbreviations_frequency_dict, sample_texts = abbreviations_match_check_3(sf_ff_dict, texts)\n",
    "\n",
    "# Getting top match words with their samples\n",
    "top_match_words = []\n",
    "for key in nlargest(len(matched_abbreviations_frequency_dict), matched_abbreviations_frequency_dict, key=matched_abbreviations_frequency_dict.get):\n",
    "    if matched_abbreviations_frequency_dict[key] >= 20:\n",
    "        top_match_words.append((key, matched_abbreviations_frequency_dict[key], sample_texts[key]))"
   ]
  },
  {
   "cell_type": "code",
   "execution_count": 182,
   "metadata": {},
   "outputs": [
    {
     "name": "stdout",
     "output_type": "stream",
     "text": [
      "81\n",
      "64\n",
      "17\n"
     ]
    }
   ],
   "source": [
    "# c = 1\n",
    "# for key, value in matched_abbreviations_frequency_dict.items():\n",
    "#     print(f'({c})Key : {key}\\nValue : {value}\\n')\n",
    "#     c+=1\n",
    "print(len(sf_ff_dict))\n",
    "print(len(matched_abbreviations_frequency_dict))\n",
    "print(len(non_matched_abbreviations_frequency_dict))"
   ]
  },
  {
   "cell_type": "code",
   "execution_count": 199,
   "metadata": {},
   "outputs": [
    {
     "data": {
      "text/plain": [
       "dict_items([('NFT', 19368), ('DeFi', 13005), ('DEX', 4592), ('DYOR', 3404), ('HODL', 3069), ('ATH', 2339), ('AMA', 1662), ('FOMO', 1298), ('CMC', 1069), ('SC', 831), ('APY', 614), ('APR', 600), ('ICO', 573), ('MCAP', 439), ('TA', 416), ('DAO', 358), ('KYC', 345), ('SEC', 299), ('CT', 220), ('FUD', 219), ('ITO', 199), ('Altcoin', 181), ('CEX', 142), ('DLT', 134), ('EIP', 130), ('MACD', 125), ('DCA', 91), ('FA', 73), ('ERC', 68), ('ALT', 53), ('BUIDL', 52), ('EVM', 51), ('ERC-20', 47), ('ETF', 47), ('P2P', 47), ('BTFD', 45), ('Lambo', 44), ('REKT', 43), ('YTD', 43), ('DApp', 39), ('PoS', 39), ('OTC', 35), ('PoW', 27), ('CFTC', 16), ('TLT', 15), ('Tx', 14), ('TPS', 11), ('FIAT', 7), ('SATS', 7), ('ATL', 6), ('BFT', 6), ('LN', 6), ('STO', 6), ('FTC', 4), ('ERC-721', 3), ('AML', 2), ('PnD', 2), ('SoV', 2), ('TOR', 2), ('BIP', 1), ('BTD', 1), ('MoE', 1), ('PoB', 1), ('mBTC', 1)])"
      ]
     },
     "execution_count": 199,
     "metadata": {},
     "output_type": "execute_result"
    }
   ],
   "source": [
    "matched_abbreviations_frequency_dict.items()"
   ]
  },
  {
   "cell_type": "code",
   "execution_count": 200,
   "metadata": {},
   "outputs": [
    {
     "data": {
      "text/plain": [
       "dict_items([('DAICO', 0), ('DOJ', 0), ('DPoS', 0), ('EEA', 0), ('ETP', 0), ('FDIC', 0), ('FUDster', 0), ('IBO', 0), ('JOMO', 0), ('OCO', 0), ('PoA', 0), ('PoD', 0), ('SegWit', 0), ('TxID', 0), ('UXTO', 0), ('UoA', 0), ('uBTC', 0)])"
      ]
     },
     "execution_count": 200,
     "metadata": {},
     "output_type": "execute_result"
    }
   ],
   "source": [
    "non_matched_abbreviations_frequency_dict.items()"
   ]
  },
  {
   "cell_type": "markdown",
   "metadata": {},
   "source": [
    "**NLP STUFF HERE**"
   ]
  },
  {
   "cell_type": "markdown",
   "metadata": {},
   "source": [
    "**NLP STUFF HERE**"
   ]
  },
  {
   "cell_type": "code",
   "execution_count": 256,
   "metadata": {},
   "outputs": [],
   "source": [
    "# # Preprocessing function\n",
    "CUSTOM_STOPWORDS = set(stopwords.words('english')) - set([\"not\", \"no\", \"down\", \"up\", \"above\", \"below\", \"against\", \"now\"])\n",
    "lemmatizer = WordNetLemmatizer()\n",
    "\n",
    "def preprocess_text(text):\n",
    "\n",
    "    crypto_dict = sf_ff_dict\n",
    "\n",
    "    # Decode HTML entities\n",
    "    text = html.unescape(text)\n",
    "\n",
    "    # Expand contractions in the text\n",
    "    text = contractions.fix(text)\n",
    "\n",
    "    # Remove URLs\n",
    "    text = re.sub(r'https?://\\S+|www\\.\\S+', '', text)\n",
    "\n",
    "    # Remove user mentions\n",
    "    text = re.sub(r'@\\w+', '', text)\n",
    "\n",
    "    # Remove non-ASCII characters\n",
    "    text = re.sub(r'[^\\x00-\\x7F]+', '', text)\n",
    "\n",
    "    # Remove newline and unicode characters like \\u200b\n",
    "    text = re.sub(r'[\\r\\n\\u200b]+', ' ', text)\n",
    "\n",
    "    # Replace terms based on the crypto dictionary\n",
    "    for term, full_form in crypto_dict.items():\n",
    "        term_pattern = r'\\b' + re.escape(term) + r'\\b'  # Matches the term as a whole word\n",
    "        text = re.sub(term_pattern, full_form, text)\n",
    "\n",
    "    # Remove punctuation (optional: keep some punctuation)\n",
    "    text = re.sub(r'[^\\w\\s$%]', '', text)\n",
    "\n",
    "    # Handle negations\n",
    "    text = re.sub(r'\\bnot\\b|\\bno\\b', 'not_', text)\n",
    "\n",
    "    # Convert to lowercase\n",
    "    text = text.lower()\n",
    "\n",
    "    # Tokenization and lemmatization\n",
    "    tokens = word_tokenize(text)\n",
    "    tokens = [lemmatizer.lemmatize(token) for token in tokens if token not in CUSTOM_STOPWORDS and len(token) > 1]\n",
    "\n",
    "    # Rejoin tokens into a single string\n",
    "    clean_text = ' '.join(tokens)\n",
    "    return clean_text"
   ]
  },
  {
   "cell_type": "markdown",
   "metadata": {},
   "source": [
    "**APPLYING NLP PREPROCESSING FN HERE**"
   ]
  },
  {
   "cell_type": "code",
   "execution_count": 220,
   "metadata": {},
   "outputs": [],
   "source": [
    "def safe_preprocess(text):\n",
    "    try:\n",
    "        return preprocess_text(text)\n",
    "    except IndexError as e:\n",
    "        print(f\"Error with text: {text}\")\n",
    "        # Return the original text or some placeholder to indicate a problem\n",
    "        return None"
   ]
  },
  {
   "cell_type": "code",
   "execution_count": 221,
   "metadata": {},
   "outputs": [
    {
     "name": "stdout",
     "output_type": "stream",
     "text": [
      "Error with text: $PPAY 20 + DEX integrations are coming in April.🔥\n",
      "\n",
      "✅Polkadot\n",
      "✅YFI\n",
      "✅BinanceChain\n",
      "✅PancakeSwap \n",
      "✅ZERO GAS\n",
      "✅İDO coming...\n",
      "\n",
      "$SXP $DAO $YOP $CSPR #BSC #BTC #BNB #TRX $XRP $DUCK $SWAP $POLS $ZEE $DOT $CAKE $BAKE #BTT $HT $OKB $KCS $LINK $ONT $HOT $GT $NEO #doge #bitci #dogecoin https://t.co/rDiqzy11Ur\n",
      "Error with text: @binance @MyNeighborAlice SAFE MARS ARMY!!! 🚀🚀🚀🚀🔥🔥🔥🔥💎💎💎💎💎 @Safemartians @SafemarsTR @cz_binance @elonmusk  #SAFEMARS #SafeMars2Mars HADİ FAVLAYIN !!!!! https://t.co/14fmwQCS2u\n",
      "Error with text: 👀Don’t disregard #MoonStar\n",
      "\n",
      "👥Community is EVERYTHING in crypto\n",
      "\n",
      "📈Our community is 50,000+ hodlers!\n",
      "\n",
      "$akita $shiba $doge $btc $eth $crypto #safebtc #safemoon #safemars #BONFIRE #safegalaxy #Rmoon #CAROM #elongate #doge #BSC #moonshot #BTC #ETH #NFT #DEFİ #ALTSEASON https://t.co/ljG3CdzvhU\n",
      "Error with text: Hello, Buy HamsiToken now at Pancakeswap, don't miss the rise 🚀🚀🚀🚀🚀🚀🚀\n",
      "visit our website :https://t.co/u6ozPnxSLi✅\n",
      "#HAMSİ #hamsi #Trabzonspor #trabzon #safemoon #VanCat #dogecoin #PancakeSwap #pancake #safemars #BSC #BSCGem #cryptocurrency #moonshot #btt #doge #Token #app https://t.co/y6kdkBWAFU\n",
      "Error with text: @HuobiGlobal @dfinity SAFEMARS LİSTİNG #SAFEMARS \n",
      "SAFEMARS IS FUTURE\n",
      "Error with text: #cougarcoin please look 👍💜🚀\n",
      "\n",
      "#FakeDogecoinFacts  #SHIB #SAFEMOON #AKİTA #BTC #CRYPTO #SAFEMARS #ADA #HOT #PIG #ELONMUSK #BINANCE #XLM #COİNMARKETCAP #GECKO #HOTBIT #BITMART #safemooon #cryptotwitter #newlistings #newcoin #newtoken #DeFi #cryptocurrency #CryptoNews #nftart #xrp https://t.co/rhe9QZMquP\n",
      "Error with text: Cougar to the moooooooooon..\n",
      "#COUGARCOİN #SHIB #SAFEMOON #AKİTA #BTC #CRYPTO #SAFEMARS #ADA #HOT #PIG #ELONMUSK #BINANCE #COİNMARKETCAP #GECKO #HOTBIT #BITMART https://t.co/6JW3VHjLU4\n",
      "Error with text: COUGAR COİN !\n",
      "\n",
      "#COUGARCOİN #SHIB #SAFEMOON #AKİTA #BTC #CRYPTO #SAFEMARS #ADA #HOT #PIG #ELONMUSK #BINANCE #COİNMARKETCAP #GECKO #HOTBIT #BITMART #cougarcoin https://t.co/P5EfRNMzBU\n",
      "Error with text: COUGAR COİN !\n",
      "\n",
      "#COUGARCOİN #SHIB #SAFEMOON #AKİTA #BTC #CRYPTO #SAFEMARS #ADA #HOT #PIG #ELONMUSK #BINANCE #COİNMARKETCAP #GECKO #HOTBIT #BITMART #COUGARCOİN https://t.co/A15YSqbRJU\n",
      "Error with text: 🐰🐰🐰LİTTLERABBİT #LTRBT 🐰🐰🐰\n",
      "🚀🚀🚀10 DAY=50000 Holders 🚀🚀🚀\n",
      "🔥🔥🔥1 day = 1 zero delete 🔥🔥🔥\n",
      "                BURN = BURN\n",
      "#safemoon #akita #safemars #doge #ping #feg #crv #algo #ada #link #shiba https://t.co/ZAyRsHupu4\n",
      "Error with text: #COUGARCOİN #SHIB #SAFEMOON #AKİTA #BTC  #CRYPTO #SAFEMARS #ADA #HOT #PIG #ELONMUSK #BINANCE  #COİNMARKETCAP #GECKO #HOTBIT #BITMART Best Project 🐾🐆🐾🔥🚀🔥🌖🌓 https://t.co/LMe3NApuXA\n",
      "Error with text: Good project\n",
      "\n",
      "@AyokunleAkin10 @sir_walter_9006 @immaculatemode @final_statics\n",
      "@anhaoba\n",
      "#BSC  #CAKE #PANCAKESWAP #MOON #SHİB #SAFEMOON #BSCGEM #NEWTOKEN #FAİRLAUNCH #GEM #SAFEMARS #BNB  $BNB https://t.co/KAWiICzGru\n",
      "Error with text: $LUNA  THE BİG TERRA $Luna Ecosystem    Terra MAP\n",
      " \n",
      " $BTC $LTC $XRP $ETH $UNI $ADA $BCH $LINK $XLM $FIL $EOS $AAVE $ATOM $MKR $XTZ $ETC $ALGO $COMP $DASH $BNB  $DOT $SOL $VET $THETA $TRX $LUNA $NEO $CAKE https://t.co/joviRSdBsU\n",
      "Error with text: $LUNA  THE BİG TERRA $Luna Ecosystem    Terra MAP\n",
      " \n",
      " $BTC $LTC $XRP $ETH $UNI $ADA $BCH $LINK $XLM $FIL $EOS $AAVE $ATOM $MKR $XTZ $ETC $ALGO $COMP $DASH $BNB  $DOT $SOL $VET $THETA $TRX $LUNA $NEO $CAKE https://t.co/joviRSdBsU\n",
      "Error with text: NANO/USDT - BUYİNG - #NANOUSDT  $nano -- $btc $eth $xrp $xlm $doge $omg $axs $bnb $srm $sol $usdt $usdc $shib #binance #nano #huobi TradingView https://t.co/p0leYVfVrn\n",
      "Error with text: NANO/USDT - BUYİNG - #NANOUSDT  $nano -- $btc $eth $xrp $xlm $doge $omg $axs $bnb $srm $sol $usdt $usdc $shib #binance #nano #huobi TradingView https://t.co/p0leYVfVrn\n",
      "Error with text: NANO/USDT - BUYİNG - #NANOUSDT  $nano -- $btc $eth $xrp $xlm $doge $omg $axs $bnb $srm $sol $usdt $usdc $shib #binance #nano #huobi TradingView https://t.co/p0leYVfVrn\n"
     ]
    }
   ],
   "source": [
    "df['clean_text'] = df['full_text'].apply(safe_preprocess)"
   ]
  },
  {
   "cell_type": "code",
   "execution_count": 222,
   "metadata": {},
   "outputs": [
    {
     "name": "stdout",
     "output_type": "stream",
     "text": [
      "<class 'pandas.core.frame.DataFrame'>\n",
      "Index: 272461 entries, 0 to 272460\n",
      "Data columns (total 10 columns):\n",
      " #   Column         Non-Null Count   Dtype         \n",
      "---  ------         --------------   -----         \n",
      " 0   created_at     272461 non-null  datetime64[ns]\n",
      " 1   entities       245708 non-null  object        \n",
      " 2   like_count     272461 non-null  int64         \n",
      " 3   quote_count    245708 non-null  float64       \n",
      " 4   reply_count    272461 non-null  int64         \n",
      " 5   retweet_count  272461 non-null  int64         \n",
      " 6   full_text      272461 non-null  object        \n",
      " 7   coin_id        272461 non-null  object        \n",
      " 8   datasource     272461 non-null  object        \n",
      " 9   clean_text     272444 non-null  object        \n",
      "dtypes: datetime64[ns](1), float64(1), int64(3), object(5)\n",
      "memory usage: 22.9+ MB\n"
     ]
    }
   ],
   "source": [
    "df.info()"
   ]
  },
  {
   "cell_type": "markdown",
   "metadata": {},
   "source": [
    "**DROPPING THE ERROR ROWS AS THEY ARE MOSTLY USE MENTIONS AND HAVE NO SENTIMENTS**"
   ]
  },
  {
   "cell_type": "code",
   "execution_count": 223,
   "metadata": {},
   "outputs": [],
   "source": [
    "df = df.dropna(subset=['clean_text'])"
   ]
  },
  {
   "cell_type": "code",
   "execution_count": 239,
   "metadata": {},
   "outputs": [],
   "source": [
    "# Rearranging Cols\n",
    "df = df.reindex(columns=['created_at', 'entities', 'like_count', 'quote_count', 'reply_count',\n",
    "       'retweet_count', 'full_text', 'clean_text',  'coin_id', 'datasource'])"
   ]
  },
  {
   "cell_type": "code",
   "execution_count": null,
   "metadata": {},
   "outputs": [],
   "source": [
    "df[['full_text', 'clean_text']].head(15)"
   ]
  },
  {
   "cell_type": "code",
   "execution_count": 224,
   "metadata": {},
   "outputs": [
    {
     "name": "stdout",
     "output_type": "stream",
     "text": [
      "<class 'pandas.core.frame.DataFrame'>\n",
      "Index: 272444 entries, 0 to 272460\n",
      "Data columns (total 10 columns):\n",
      " #   Column         Non-Null Count   Dtype         \n",
      "---  ------         --------------   -----         \n",
      " 0   created_at     272444 non-null  datetime64[ns]\n",
      " 1   entities       245691 non-null  object        \n",
      " 2   like_count     272444 non-null  int64         \n",
      " 3   quote_count    245691 non-null  float64       \n",
      " 4   reply_count    272444 non-null  int64         \n",
      " 5   retweet_count  272444 non-null  int64         \n",
      " 6   full_text      272444 non-null  object        \n",
      " 7   coin_id        272444 non-null  object        \n",
      " 8   datasource     272444 non-null  object        \n",
      " 9   clean_text     272444 non-null  object        \n",
      "dtypes: datetime64[ns](1), float64(1), int64(3), object(5)\n",
      "memory usage: 22.9+ MB\n"
     ]
    }
   ],
   "source": [
    "df.info()"
   ]
  },
  {
   "cell_type": "code",
   "execution_count": 241,
   "metadata": {},
   "outputs": [],
   "source": [
    "text_pairs = list(zip(df['full_text'], df['clean_text']))"
   ]
  },
  {
   "cell_type": "code",
   "execution_count": 277,
   "metadata": {},
   "outputs": [
    {
     "data": {
      "text/plain": [
       "272444"
      ]
     },
     "execution_count": 277,
     "metadata": {},
     "output_type": "execute_result"
    }
   ],
   "source": [
    "len(text_pairs)"
   ]
  },
  {
   "cell_type": "code",
   "execution_count": 262,
   "metadata": {},
   "outputs": [
    {
     "data": {
      "text/plain": [
       "[('Thanks so much Elon Musk!!\\n\\nSent 5 #eth got back 50! Highly recommended. #ethereum\\n\\n#eth $eth #dogecoin #ethereum $doge #bitcoin $btc #btc #bnb #binance #coinbase\\nhttps://t.co/4vUM2FbbaW',\n",
       "  'thanks much elon musk sent eth got back 50 highly recommended ethereum eth eth dogecoin ethereum doge bitcoin btc btc bnb binance coinbase'),\n",
       " ('@BabyCakeBSC @YouTube #BabyCake #babycakeBSC #cake #pancakeswap #BSCGems \\n#BSCNews #CryptoNews #Crypto #DeFi #cz_binance\\n@babycakeBSC @pancakeswap $CAKE',\n",
       "  'babycakebsc youtube babycake babycakebsc cake pancakeswap bscgems bscnews cryptonews crypto decentralized finance cz_binance babycakebsc pancakeswap cake'),\n",
       " ('$ETH to 10k', 'eth 10k'),\n",
       " (\"@tyler I'm long term bullish on $ETH and $CVP and If BSC or Binance supports BSCDEFI portfolio by @PowerPoolCVP  $CVP is bound to moon\",\n",
       "  'tyler long term bullish eth cvp bsc binance support bscdefi portfolio powerpoolcvp cvp bound moon'),\n",
       " ('🚨Inaugural NUMI Sets 🚨 ⤵️ \\n\\n1⃣ The OGs: 1 $BTC &amp; 1 $ETH #NUMI \\nEarn a limited 1 of 1 #OG #Satoshi / @VitalikButerin #NUMI\\n2⃣ \"I Like Big #DEXs &amp; I Cannot Lie\": 1 $UNI, $CAKE, #1INCH, $SUSHI\\nFirst 10 to complete earn the #BigDEX #NUMI\\n\\nContinued.. ⤵️⤵️',\n",
       "  'inaugural numi set ogs btc eth numi earn limited og satoshi vitalikbuterin numi like big dexs not lie uni cake 1inch sushi first 10 complete earn bigdex numi continued'),\n",
       " (\"I'm ready to get invited after the upgrade of @JoinKlub, adoption is getting near.\\n\\nBuying more $XKI is one of the best thing to do while waiting and stake it with over 30% APY. 😍\\n\\n#CeFi #Klub $SUSHI https://t.co/S6Kq8D51vj\",\n",
       "  'ready get invited upgrade joinklub adoption getting near buying xki one best thing waiting stake 30 annual percentage yield cefi klub sushi'),\n",
       " ('$theta juge profits 💸💸💸\\nJoin us on telegram:\\nhttps://t.co/qiPeI3rPk1\\n\\n$theta $tko $zil $tru $atom $coti $sand $axs $pond $twt $matic $luna $alice $doge $sushi $sol https://t.co/OB2bcxvXy1',\n",
       "  'theta juge profit join u telegram theta tko zil tru atom coti sand ax pond twt matic luna alice doge sushi sol'),\n",
       " (\"$SUSHI\\nFirst test of the previous resistence now support done, price already up 3% from the test, bullish engulfing is forming on 4H, a close above 9.3 and I don't think 9.6 will cap the price again https://t.co/DXpEPGA6ZK\",\n",
       "  'sushi first test previous resistence support done price already up test bullish engulfing forming 4h close above 93 not_ think 96 cap price'),\n",
       " ('[Spot] By 2021-08-05 13:00 GMT, SUSHI net cap flow of $27M with a price change of 0.8% in last 24 hrs. Free Alert: https://t.co/10DW3v7XKs #cryptocurrency #CryptoCapFlow $SUSHI https://t.co/OXvL5CDGLs',\n",
       "  'spot 20210805 1300 gmt sushi net cap flow 27m price change 08 last 24 hr free alert cryptocurrency cryptocapflow sushi'),\n",
       " ('$SUSHI $DOT $MKR $LUNA $AAVE $ADA $NEO \\n\\nALLLLLL looking good right now! \\n\\n$BTC BEHAVE YOU BIATCH!!\\n\\n#Crypto #cryptotrading',\n",
       "  'sushi dot mkr luna aave ada neo allllll looking good right btc behave biatch crypto cryptotrading'),\n",
       " ('If you bought #Crypto during the crash, YOU ARE INTELLIGENT INVESTORS! \\nAnd soOn, YOU WILL BE RICH!!!!\\n$ICP $ADA $CGLD $ETC $BTC $FORTH $VGX $OMG $VET $FIL $XTZ $XRP $XLM $ETH $doge $LINK $Sushi',\n",
       "  'bought crypto crash intelligent investor soon rich icp ada cgld etc btc forth vgx omg vet fil xtz xrp xlm eth doge link sushi'),\n",
       " ('@AdamHODL Make it yours, Make it digital. \\nWith @ethernaal #NFT Tatoo. Our artists will bring you some true pieces of art. $NAAL \\n\\n#Ethernaal $Sushi #Miso #IDO #Tattoo #DeFi  #NFT #NF2T',\n",
       "  'adamhodl make make digital ethernaal non fungible token tatoo artist bring true piece art naal ethernaal sushi miso ido tattoo decentralized finance non fungible token nf2t'),\n",
       " ('🚀 $SUSHI may go up\\n✅ BINANCE\\n📈 TRADINGVIEW: https://t.co/xf73kEe8bw\\n✅ BITTREX\\n📈 TRADINGVIEW: https://t.co/Mp3RquLzyT\\n💱 Price: 0.00022421 BTC\\n📊 1H: 0.87%\\n📊 24H: 1.37%\\n📊 7D: 9.58%\\n💰 24H Vol: $368,754,743\\nℹ This is not an investment advice. #DYOR #YTD #Robostopia',\n",
       "  'sushi may go up binance tradingview bittrex tradingview price 000022421 btc 1h 087 24h 137 7d 958 24h vol 368754743 not_ investment advice research year date robostopia'),\n",
       " ('📈 $SUSHI up 9.55487% in last 24 hrs, with current price $9.19\\n📊 $SUSHI trading volume $392,188,826\\n\\n🐳 SUSHI volume of the top 1000 ETH wallets (24hrs) 🐳\\n\\n➡️ $299,505 in\\n⬅️ $977,188 out\\n💹 Net flow: -$677,683\\n\\n#SUSHI #ERC20 #DEFI #ETH #whalestats',\n",
       "  'sushi up 955487 last 24 hr current price 919 sushi trading volume 392188826 sushi volume top 1000 eth wallet 24hrs 299505 977188 net flow 677683 sushi erc20 defi eth whalestats'),\n",
       " ('Daytrade 🚥\\n$ENJ 🟢 $1.40\\n$HNT 🟢 $13.59\\n$RUNE 🟡 $7.79\\n$HOT 🟡 $0.006831\\n$SUSHI 🟡 $9.23\\n$NEAR 🟢 $2.47\\n$BAT 🟢 $0.6834\\n$MDX 🟢 $1.22\\n$ZIL 🟢 $0.08893\\n$BTG 🟢 $55.08\\nGo https://t.co/xzqH6LyCnS for more #crypto #signals',\n",
       "  'daytrade enj 140 hnt 1359 rune 779 hot 0006831 sushi 923 near 247 bat 06834 mdx 122 zil 008893 btg 5508 go crypto signal'),\n",
       " ('Let’s have some fun $UNI vs $SUSHI and $COIN.  This thing is set to outperform both per demarks. https://t.co/Yi4WIkwBCI',\n",
       "  'let u fun uni v sushi coin thing set outperform per demarks')]"
      ]
     },
     "execution_count": 262,
     "metadata": {},
     "output_type": "execute_result"
    }
   ],
   "source": [
    "text_pairs[len(text_pairs)//2: len(text_pairs)//2 + 16]"
   ]
  },
  {
   "cell_type": "code",
   "execution_count": 278,
   "metadata": {},
   "outputs": [
    {
     "data": {
      "text/plain": [
       "True"
      ]
     },
     "execution_count": 278,
     "metadata": {},
     "output_type": "execute_result"
    }
   ],
   "source": [
    "len(text_pairs) == len(df_2)"
   ]
  },
  {
   "cell_type": "code",
   "execution_count": 253,
   "metadata": {},
   "outputs": [
    {
     "name": "stdout",
     "output_type": "stream",
     "text": [
      "<class 'pandas.core.frame.DataFrame'>\n",
      "Index: 272444 entries, 0 to 272460\n",
      "Data columns (total 10 columns):\n",
      " #   Column         Non-Null Count   Dtype         \n",
      "---  ------         --------------   -----         \n",
      " 0   created_at     272444 non-null  datetime64[ns]\n",
      " 1   entities       245691 non-null  object        \n",
      " 2   like_count     272444 non-null  int64         \n",
      " 3   quote_count    245691 non-null  float64       \n",
      " 4   reply_count    272444 non-null  int64         \n",
      " 5   retweet_count  272444 non-null  int64         \n",
      " 6   full_text      272444 non-null  object        \n",
      " 7   clean_text     272444 non-null  object        \n",
      " 8   coin_id        272444 non-null  object        \n",
      " 9   datasource     272444 non-null  object        \n",
      "dtypes: datetime64[ns](1), float64(1), int64(3), object(5)\n",
      "memory usage: 22.9+ MB\n"
     ]
    }
   ],
   "source": [
    "df_2 = df\n"
   ]
  },
  {
   "cell_type": "code",
   "execution_count": 254,
   "metadata": {},
   "outputs": [],
   "source": [
    "df_2 = df_2.drop('clean_text', axis=1)"
   ]
  },
  {
   "cell_type": "code",
   "execution_count": 259,
   "metadata": {},
   "outputs": [
    {
     "data": {
      "text/html": [
       "<div>\n",
       "<style scoped>\n",
       "    .dataframe tbody tr th:only-of-type {\n",
       "        vertical-align: middle;\n",
       "    }\n",
       "\n",
       "    .dataframe tbody tr th {\n",
       "        vertical-align: top;\n",
       "    }\n",
       "\n",
       "    .dataframe thead th {\n",
       "        text-align: right;\n",
       "    }\n",
       "</style>\n",
       "<table border=\"1\" class=\"dataframe\">\n",
       "  <thead>\n",
       "    <tr style=\"text-align: right;\">\n",
       "      <th></th>\n",
       "      <th>created_at</th>\n",
       "      <th>entities</th>\n",
       "      <th>like_count</th>\n",
       "      <th>quote_count</th>\n",
       "      <th>reply_count</th>\n",
       "      <th>retweet_count</th>\n",
       "      <th>full_text</th>\n",
       "      <th>coin_id</th>\n",
       "      <th>datasource</th>\n",
       "      <th>clean_text</th>\n",
       "    </tr>\n",
       "  </thead>\n",
       "  <tbody>\n",
       "    <tr>\n",
       "      <th>272253</th>\n",
       "      <td>2023-06-12</td>\n",
       "      <td>NaN</td>\n",
       "      <td>0</td>\n",
       "      <td>NaN</td>\n",
       "      <td>0</td>\n",
       "      <td>8</td>\n",
       "      <td>rt @crypto_crib_: ð²chinese bank boci issues country's first tokenized security on ethereum blockchain. https://t.co/yeoudbbqzc</td>\n",
       "      <td>eth</td>\n",
       "      <td>influtweets</td>\n",
       "      <td>rt chinese bank boci issue country first tokenized security ethereum blockchain</td>\n",
       "    </tr>\n",
       "    <tr>\n",
       "      <th>272252</th>\n",
       "      <td>2023-06-12</td>\n",
       "      <td>NaN</td>\n",
       "      <td>56</td>\n",
       "      <td>NaN</td>\n",
       "      <td>16</td>\n",
       "      <td>7</td>\n",
       "      <td>bitcoin, not crypto.\\n\\ncrypto, not security.</td>\n",
       "      <td>btc</td>\n",
       "      <td>influtweets</td>\n",
       "      <td>bitcoin not_ crypto crypto not_ security</td>\n",
       "    </tr>\n",
       "    <tr>\n",
       "      <th>272251</th>\n",
       "      <td>2023-06-12</td>\n",
       "      <td>NaN</td>\n",
       "      <td>1</td>\n",
       "      <td>NaN</td>\n",
       "      <td>9</td>\n",
       "      <td>0</td>\n",
       "      <td>new gap cme - 26400 ð\\n\\nno better time to join...\\n60% offð¥ð¥ð¥\\nclickð\\nhttps://t.co/tcetr8tf7t\\n\\n$btc $eth $lina $xrp $arb $bnb $ltc $key $amb $sui\\n$amb $bts $nkn $syn $ldo $combo $qkc $rdnt $mdt $inj https://t.co/qaryyzrfuq</td>\n",
       "      <td>xrp</td>\n",
       "      <td>influtweets</td>\n",
       "      <td>new gap cme 26400 not_ better time join 60 click btc eth lina xrp arb bnb ltc key amb sui amb bts nkn syn ldo combo qkc rdnt mdt inj</td>\n",
       "    </tr>\n",
       "    <tr>\n",
       "      <th>272258</th>\n",
       "      <td>2023-06-12</td>\n",
       "      <td>NaN</td>\n",
       "      <td>3</td>\n",
       "      <td>NaN</td>\n",
       "      <td>5</td>\n",
       "      <td>0</td>\n",
       "      <td>booomð¥\\n\\nour #ai bot/indicator crushes another $lina trade perfectly! ð¾ð°\\n\\n#lina tp #9â\\nperiod: 1 day 26 minâ°\\nprofit: +1,391.19%ð´\\n\\n(2) $99 lifetime memberships left ð¥\\npay via usdt (trc20)ð \\ntzfsdngc7n5gvgxsbfgc4mivqpjymfde6t\\n\\n#doge #apt #kas #hbar #ftm #inj #matic $pepe https://t.co/4qqsjur2dp</td>\n",
       "      <td>usdt</td>\n",
       "      <td>influtweets</td>\n",
       "      <td>booom ai botindicator crush another lina trade perfectly lina tp period day 26 min profit 139119 99 lifetime membership left pay via usdt trc20 tzfsdngc7n5gvgxsbfgc4mivqpjymfde6t doge apt ka hbar ftm inj matic pepe</td>\n",
       "    </tr>\n",
       "    <tr>\n",
       "      <th>272460</th>\n",
       "      <td>2023-06-12</td>\n",
       "      <td>NaN</td>\n",
       "      <td>0</td>\n",
       "      <td>NaN</td>\n",
       "      <td>0</td>\n",
       "      <td>8</td>\n",
       "      <td>rt @crypto_crib_: jpmorgan calls for \"comprehensive framework\" after sec's lawsuit on binance &amp;amp; coinbase; urges law-makers to adopt sec staâ¦</td>\n",
       "      <td>amp</td>\n",
       "      <td>influtweets</td>\n",
       "      <td>rt jpmorgan call comprehensive framework sec lawsuit binance coinbase urge lawmaker adopt sec sta</td>\n",
       "    </tr>\n",
       "  </tbody>\n",
       "</table>\n",
       "</div>"
      ],
      "text/plain": [
       "       created_at entities  like_count  quote_count  reply_count  \\\n",
       "272253 2023-06-12      NaN           0          NaN            0   \n",
       "272252 2023-06-12      NaN          56          NaN           16   \n",
       "272251 2023-06-12      NaN           1          NaN            9   \n",
       "272258 2023-06-12      NaN           3          NaN            5   \n",
       "272460 2023-06-12      NaN           0          NaN            0   \n",
       "\n",
       "        retweet_count  \\\n",
       "272253              8   \n",
       "272252              7   \n",
       "272251              0   \n",
       "272258              0   \n",
       "272460              8   \n",
       "\n",
       "                                                                                                                                                                                                                                                                                                                                     full_text  \\\n",
       "272253                                                                                                                                                                                                       rt @crypto_crib_: ð²chinese bank boci issues country's first tokenized security on ethereum blockchain. https://t.co/yeoudbbqzc   \n",
       "272252                                                                                                                                                                                                                                                                                           bitcoin, not crypto.\\n\\ncrypto, not security.   \n",
       "272251                                                                                      new gap cme - 26400 ð\\n\\nno better time to join...\\n60% offð¥ð¥ð¥\\nclickð\\nhttps://t.co/tcetr8tf7t\\n\\n$btc $eth $lina $xrp $arb $bnb $ltc $key $amb $sui\\n$amb $bts $nkn $syn $ldo $combo $qkc $rdnt $mdt $inj https://t.co/qaryyzrfuq   \n",
       "272258  booomð¥\\n\\nour #ai bot/indicator crushes another $lina trade perfectly! ð¾ð°\\n\\n#lina tp #9â\n",
       "\\nperiod: 1 day 26 minâ°\\nprofit: +1,391.19%ð´\\n\\n(2) $99 lifetime memberships left ð¥\\npay via usdt (trc20)ð \\ntzfsdngc7n5gvgxsbfgc4mivqpjymfde6t\\n\\n#doge #apt #kas #hbar #ftm #inj #matic $pepe https://t.co/4qqsjur2dp   \n",
       "272460                                                                                                                                                                                      rt @crypto_crib_: jpmorgan calls for \"comprehensive framework\" after sec's lawsuit on binance &amp; coinbase; urges law-makers to adopt sec staâ¦   \n",
       "\n",
       "       coin_id   datasource  \\\n",
       "272253     eth  influtweets   \n",
       "272252     btc  influtweets   \n",
       "272251     xrp  influtweets   \n",
       "272258    usdt  influtweets   \n",
       "272460     amp  influtweets   \n",
       "\n",
       "                                                                                                                                                                                                                    clean_text  \n",
       "272253                                                                                                                                         rt chinese bank boci issue country first tokenized security ethereum blockchain  \n",
       "272252                                                                                                                                                                                bitcoin not_ crypto crypto not_ security  \n",
       "272251                                                                                    new gap cme 26400 not_ better time join 60 click btc eth lina xrp arb bnb ltc key amb sui amb bts nkn syn ldo combo qkc rdnt mdt inj  \n",
       "272258  booom ai botindicator crush another lina trade perfectly lina tp period day 26 min profit 139119 99 lifetime membership left pay via usdt trc20 tzfsdngc7n5gvgxsbfgc4mivqpjymfde6t doge apt ka hbar ftm inj matic pepe  \n",
       "272460                                                                                                                       rt jpmorgan call comprehensive framework sec lawsuit binance coinbase urge lawmaker adopt sec sta  "
      ]
     },
     "execution_count": 259,
     "metadata": {},
     "output_type": "execute_result"
    }
   ],
   "source": [
    "df_2.tail()"
   ]
  },
  {
   "cell_type": "code",
   "execution_count": 257,
   "metadata": {},
   "outputs": [],
   "source": [
    "df_2['clean_text'] = df_2['full_text'].apply(safe_preprocess)"
   ]
  },
  {
   "cell_type": "code",
   "execution_count": null,
   "metadata": {},
   "outputs": [],
   "source": [
    "df_2 = df_2.drop('entities', axis=1)"
   ]
  },
  {
   "cell_type": "code",
   "execution_count": 266,
   "metadata": {},
   "outputs": [
    {
     "data": {
      "text/html": [
       "<div>\n",
       "<style scoped>\n",
       "    .dataframe tbody tr th:only-of-type {\n",
       "        vertical-align: middle;\n",
       "    }\n",
       "\n",
       "    .dataframe tbody tr th {\n",
       "        vertical-align: top;\n",
       "    }\n",
       "\n",
       "    .dataframe thead th {\n",
       "        text-align: right;\n",
       "    }\n",
       "</style>\n",
       "<table border=\"1\" class=\"dataframe\">\n",
       "  <thead>\n",
       "    <tr style=\"text-align: right;\">\n",
       "      <th></th>\n",
       "      <th>created_at</th>\n",
       "      <th>like_count</th>\n",
       "      <th>quote_count</th>\n",
       "      <th>reply_count</th>\n",
       "      <th>retweet_count</th>\n",
       "      <th>full_text</th>\n",
       "      <th>coin_id</th>\n",
       "      <th>datasource</th>\n",
       "      <th>clean_text</th>\n",
       "    </tr>\n",
       "  </thead>\n",
       "  <tbody>\n",
       "    <tr>\n",
       "      <th>145292</th>\n",
       "      <td>2021-08-06</td>\n",
       "      <td>0</td>\n",
       "      <td>0.0</td>\n",
       "      <td>0</td>\n",
       "      <td>0</td>\n",
       "      <td>Thanks so much Elon Musk!!\\n\\nSent 5 #eth got back 50! Highly recommended. #ethereum\\n\\n#eth $eth #dogecoin #ethereum $doge #bitcoin $btc #btc #bnb #binance #coinbase\\nhttps://t.co/4vUM2FbbaW</td>\n",
       "      <td>eth</td>\n",
       "      <td>othertweets</td>\n",
       "      <td>thanks much elon musk sent eth got back 50 highly recommended ethereum eth eth dogecoin ethereum doge bitcoin btc btc bnb binance coinbase</td>\n",
       "    </tr>\n",
       "    <tr>\n",
       "      <th>146856</th>\n",
       "      <td>2021-08-06</td>\n",
       "      <td>0</td>\n",
       "      <td>0.0</td>\n",
       "      <td>0</td>\n",
       "      <td>0</td>\n",
       "      <td>@BabyCakeBSC @YouTube #BabyCake #babycakeBSC #cake #pancakeswap #BSCGems \\n#BSCNews #CryptoNews #Crypto #DeFi #cz_binance\\n@babycakeBSC @pancakeswap $CAKE</td>\n",
       "      <td>cake</td>\n",
       "      <td>othertweets</td>\n",
       "      <td>babycake babycakebsc cake pancakeswap bscgems bscnews cryptonews crypto decentralized finance cz_binance cake</td>\n",
       "    </tr>\n",
       "    <tr>\n",
       "      <th>145583</th>\n",
       "      <td>2021-08-06</td>\n",
       "      <td>0</td>\n",
       "      <td>0.0</td>\n",
       "      <td>0</td>\n",
       "      <td>0</td>\n",
       "      <td>$ETH to 10k</td>\n",
       "      <td>eth</td>\n",
       "      <td>othertweets</td>\n",
       "      <td>eth 10k</td>\n",
       "    </tr>\n",
       "    <tr>\n",
       "      <th>145585</th>\n",
       "      <td>2021-08-06</td>\n",
       "      <td>0</td>\n",
       "      <td>0.0</td>\n",
       "      <td>0</td>\n",
       "      <td>0</td>\n",
       "      <td>@tyler I'm long term bullish on $ETH and $CVP and If BSC or Binance supports BSCDEFI portfolio by @PowerPoolCVP  $CVP is bound to moon</td>\n",
       "      <td>eth</td>\n",
       "      <td>othertweets</td>\n",
       "      <td>long term bullish eth cvp bsc binance support bscdefi portfolio cvp bound moon</td>\n",
       "    </tr>\n",
       "    <tr>\n",
       "      <th>145873</th>\n",
       "      <td>2021-08-06</td>\n",
       "      <td>1</td>\n",
       "      <td>1.0</td>\n",
       "      <td>1</td>\n",
       "      <td>1</td>\n",
       "      <td>🚨Inaugural NUMI Sets 🚨 ⤵️ \\n\\n1⃣ The OGs: 1 $BTC &amp;amp; 1 $ETH #NUMI \\nEarn a limited 1 of 1 #OG #Satoshi / @VitalikButerin #NUMI\\n2⃣ \"I Like Big #DEXs &amp;amp; I Cannot Lie\": 1 $UNI, $CAKE, #1INCH, $SUSHI\\nFirst 10 to complete earn the #BigDEX #NUMI\\n\\nContinued.. ⤵️⤵️</td>\n",
       "      <td>sushi</td>\n",
       "      <td>othertweets</td>\n",
       "      <td>inaugural numi set ogs btc eth numi earn limited og satoshi numi like big dexs not lie uni cake 1inch sushi first 10 complete earn bigdex numi continued</td>\n",
       "    </tr>\n",
       "    <tr>\n",
       "      <th>145872</th>\n",
       "      <td>2021-08-06</td>\n",
       "      <td>0</td>\n",
       "      <td>0.0</td>\n",
       "      <td>0</td>\n",
       "      <td>0</td>\n",
       "      <td>I'm ready to get invited after the upgrade of @JoinKlub, adoption is getting near.\\n\\nBuying more $XKI is one of the best thing to do while waiting and stake it with over 30% APY. 😍\\n\\n#CeFi #Klub $SUSHI https://t.co/S6Kq8D51vj</td>\n",
       "      <td>sushi</td>\n",
       "      <td>othertweets</td>\n",
       "      <td>ready get invited upgrade adoption getting near buying xki one best thing waiting stake 30 annual percentage yield cefi klub sushi</td>\n",
       "    </tr>\n",
       "    <tr>\n",
       "      <th>145871</th>\n",
       "      <td>2021-08-06</td>\n",
       "      <td>0</td>\n",
       "      <td>0.0</td>\n",
       "      <td>0</td>\n",
       "      <td>0</td>\n",
       "      <td>$theta juge profits 💸💸💸\\nJoin us on telegram:\\nhttps://t.co/qiPeI3rPk1\\n\\n$theta $tko $zil $tru $atom $coti $sand $axs $pond $twt $matic $luna $alice $doge $sushi $sol https://t.co/OB2bcxvXy1</td>\n",
       "      <td>sushi</td>\n",
       "      <td>othertweets</td>\n",
       "      <td>theta juge profit join u telegram theta tko zil tru atom coti sand ax pond twt matic luna alice doge sushi sol</td>\n",
       "    </tr>\n",
       "    <tr>\n",
       "      <th>145870</th>\n",
       "      <td>2021-08-06</td>\n",
       "      <td>1</td>\n",
       "      <td>1.0</td>\n",
       "      <td>1</td>\n",
       "      <td>1</td>\n",
       "      <td>$SUSHI\\nFirst test of the previous resistence now support done, price already up 3% from the test, bullish engulfing is forming on 4H, a close above 9.3 and I don't think 9.6 will cap the price again https://t.co/DXpEPGA6ZK</td>\n",
       "      <td>sushi</td>\n",
       "      <td>othertweets</td>\n",
       "      <td>sushi first test previous resistence now support done price already up test bullish engulfing forming 4h close above 93 not_ think 96 cap price</td>\n",
       "    </tr>\n",
       "    <tr>\n",
       "      <th>145869</th>\n",
       "      <td>2021-08-06</td>\n",
       "      <td>0</td>\n",
       "      <td>0.0</td>\n",
       "      <td>0</td>\n",
       "      <td>0</td>\n",
       "      <td>[Spot] By 2021-08-05 13:00 GMT, SUSHI net cap flow of $27M with a price change of 0.8% in last 24 hrs. Free Alert: https://t.co/10DW3v7XKs #cryptocurrency #CryptoCapFlow $SUSHI https://t.co/OXvL5CDGLs</td>\n",
       "      <td>sushi</td>\n",
       "      <td>othertweets</td>\n",
       "      <td>spot 20210805 1300 gmt sushi net cap flow 27m price change 08 last 24 hr free alert cryptocurrency cryptocapflow sushi</td>\n",
       "    </tr>\n",
       "    <tr>\n",
       "      <th>145868</th>\n",
       "      <td>2021-08-06</td>\n",
       "      <td>1</td>\n",
       "      <td>1.0</td>\n",
       "      <td>1</td>\n",
       "      <td>1</td>\n",
       "      <td>$SUSHI $DOT $MKR $LUNA $AAVE $ADA $NEO \\n\\nALLLLLL looking good right now! \\n\\n$BTC BEHAVE YOU BIATCH!!\\n\\n#Crypto #cryptotrading</td>\n",
       "      <td>sushi</td>\n",
       "      <td>othertweets</td>\n",
       "      <td>sushi dot mkr luna aave ada neo allllll looking good right now btc behave biatch crypto cryptotrading</td>\n",
       "    </tr>\n",
       "    <tr>\n",
       "      <th>145867</th>\n",
       "      <td>2021-08-06</td>\n",
       "      <td>0</td>\n",
       "      <td>0.0</td>\n",
       "      <td>0</td>\n",
       "      <td>0</td>\n",
       "      <td>If you bought #Crypto during the crash, YOU ARE INTELLIGENT INVESTORS! \\nAnd soOn, YOU WILL BE RICH!!!!\\n$ICP $ADA $CGLD $ETC $BTC $FORTH $VGX $OMG $VET $FIL $XTZ $XRP $XLM $ETH $doge $LINK $Sushi</td>\n",
       "      <td>sushi</td>\n",
       "      <td>othertweets</td>\n",
       "      <td>bought crypto crash intelligent investor soon rich icp ada cgld etc btc forth vgx omg vet fil xtz xrp xlm eth doge link sushi</td>\n",
       "    </tr>\n",
       "    <tr>\n",
       "      <th>145866</th>\n",
       "      <td>2021-08-06</td>\n",
       "      <td>0</td>\n",
       "      <td>0.0</td>\n",
       "      <td>0</td>\n",
       "      <td>0</td>\n",
       "      <td>@AdamHODL Make it yours, Make it digital. \\nWith @ethernaal #NFT Tatoo. Our artists will bring you some true pieces of art. $NAAL \\n\\n#Ethernaal $Sushi #Miso #IDO #Tattoo #DeFi  #NFT #NF2T</td>\n",
       "      <td>sushi</td>\n",
       "      <td>othertweets</td>\n",
       "      <td>make make digital non fungible token tatoo artist bring true piece art naal ethernaal sushi miso ido tattoo decentralized finance non fungible token nf2t</td>\n",
       "    </tr>\n",
       "    <tr>\n",
       "      <th>145865</th>\n",
       "      <td>2021-08-06</td>\n",
       "      <td>0</td>\n",
       "      <td>0.0</td>\n",
       "      <td>0</td>\n",
       "      <td>0</td>\n",
       "      <td>🚀 $SUSHI may go up\\n✅ BINANCE\\n📈 TRADINGVIEW: https://t.co/xf73kEe8bw\\n✅ BITTREX\\n📈 TRADINGVIEW: https://t.co/Mp3RquLzyT\\n💱 Price: 0.00022421 BTC\\n📊 1H: 0.87%\\n📊 24H: 1.37%\\n📊 7D: 9.58%\\n💰 24H Vol: $368,754,743\\nℹ This is not an investment advice. #DYOR #YTD #Robostopia</td>\n",
       "      <td>sushi</td>\n",
       "      <td>othertweets</td>\n",
       "      <td>sushi may go up binance tradingview bittrex tradingview price 000022421 btc 1h 087 24h 137 7d 958 24h vol 368754743 not_ investment advice research year date robostopia</td>\n",
       "    </tr>\n",
       "    <tr>\n",
       "      <th>145864</th>\n",
       "      <td>2021-08-06</td>\n",
       "      <td>0</td>\n",
       "      <td>0.0</td>\n",
       "      <td>0</td>\n",
       "      <td>0</td>\n",
       "      <td>📈 $SUSHI up 9.55487% in last 24 hrs, with current price $9.19\\n📊 $SUSHI trading volume $392,188,826\\n\\n🐳 SUSHI volume of the top 1000 ETH wallets (24hrs) 🐳\\n\\n➡️ $299,505 in\\n⬅️ $977,188 out\\n💹 Net flow: -$677,683\\n\\n#SUSHI #ERC20 #DEFI #ETH #whalestats</td>\n",
       "      <td>sushi</td>\n",
       "      <td>othertweets</td>\n",
       "      <td>sushi up 955487 last 24 hr current price 919 sushi trading volume 392188826 sushi volume top 1000 eth wallet 24hrs 299505 977188 net flow 677683 sushi erc20 defi eth whalestats</td>\n",
       "    </tr>\n",
       "    <tr>\n",
       "      <th>145874</th>\n",
       "      <td>2021-08-06</td>\n",
       "      <td>0</td>\n",
       "      <td>0.0</td>\n",
       "      <td>0</td>\n",
       "      <td>0</td>\n",
       "      <td>Daytrade 🚥\\n$ENJ 🟢 $1.40\\n$HNT 🟢 $13.59\\n$RUNE 🟡 $7.79\\n$HOT 🟡 $0.006831\\n$SUSHI 🟡 $9.23\\n$NEAR 🟢 $2.47\\n$BAT 🟢 $0.6834\\n$MDX 🟢 $1.22\\n$ZIL 🟢 $0.08893\\n$BTG 🟢 $55.08\\nGo https://t.co/xzqH6LyCnS for more #crypto #signals</td>\n",
       "      <td>sushi</td>\n",
       "      <td>othertweets</td>\n",
       "      <td>daytrade enj 140 hnt 1359 rune 779 hot 0006831 sushi 923 near 247 bat 06834 mdx 122 zil 008893 btg 5508 go crypto signal</td>\n",
       "    </tr>\n",
       "    <tr>\n",
       "      <th>145863</th>\n",
       "      <td>2021-08-06</td>\n",
       "      <td>0</td>\n",
       "      <td>0.0</td>\n",
       "      <td>0</td>\n",
       "      <td>0</td>\n",
       "      <td>Let’s have some fun $UNI vs $SUSHI and $COIN.  This thing is set to outperform both per demarks. https://t.co/Yi4WIkwBCI</td>\n",
       "      <td>sushi</td>\n",
       "      <td>othertweets</td>\n",
       "      <td>let u fun uni v sushi coin thing set outperform per demarks</td>\n",
       "    </tr>\n",
       "  </tbody>\n",
       "</table>\n",
       "</div>"
      ],
      "text/plain": [
       "       created_at  like_count  quote_count  reply_count  retweet_count  \\\n",
       "145292 2021-08-06           0          0.0            0              0   \n",
       "146856 2021-08-06           0          0.0            0              0   \n",
       "145583 2021-08-06           0          0.0            0              0   \n",
       "145585 2021-08-06           0          0.0            0              0   \n",
       "145873 2021-08-06           1          1.0            1              1   \n",
       "145872 2021-08-06           0          0.0            0              0   \n",
       "145871 2021-08-06           0          0.0            0              0   \n",
       "145870 2021-08-06           1          1.0            1              1   \n",
       "145869 2021-08-06           0          0.0            0              0   \n",
       "145868 2021-08-06           1          1.0            1              1   \n",
       "145867 2021-08-06           0          0.0            0              0   \n",
       "145866 2021-08-06           0          0.0            0              0   \n",
       "145865 2021-08-06           0          0.0            0              0   \n",
       "145864 2021-08-06           0          0.0            0              0   \n",
       "145874 2021-08-06           0          0.0            0              0   \n",
       "145863 2021-08-06           0          0.0            0              0   \n",
       "\n",
       "                                                                                                                                                                                                                                                                             full_text  \\\n",
       "145292                                                                                 Thanks so much Elon Musk!!\\n\\nSent 5 #eth got back 50! Highly recommended. #ethereum\\n\\n#eth $eth #dogecoin #ethereum $doge #bitcoin $btc #btc #bnb #binance #coinbase\\nhttps://t.co/4vUM2FbbaW   \n",
       "146856                                                                                                                      @BabyCakeBSC @YouTube #BabyCake #babycakeBSC #cake #pancakeswap #BSCGems \\n#BSCNews #CryptoNews #Crypto #DeFi #cz_binance\\n@babycakeBSC @pancakeswap $CAKE   \n",
       "145583                                                                                                                                                                                                                                                                     $ETH to 10k   \n",
       "145585                                                                                                                                          @tyler I'm long term bullish on $ETH and $CVP and If BSC or Binance supports BSCDEFI portfolio by @PowerPoolCVP  $CVP is bound to moon   \n",
       "145873      🚨Inaugural NUMI Sets 🚨 ⤵️ \\n\\n1⃣ The OGs: 1 $BTC &amp; 1 $ETH #NUMI \\nEarn a limited 1 of 1 #OG #Satoshi / @VitalikButerin #NUMI\\n2⃣ \"I Like Big #DEXs &amp; I Cannot Lie\": 1 $UNI, $CAKE, #1INCH, $SUSHI\\nFirst 10 to complete earn the #BigDEX #NUMI\\n\\nContinued.. ⤵️⤵️   \n",
       "145872                                             I'm ready to get invited after the upgrade of @JoinKlub, adoption is getting near.\\n\\nBuying more $XKI is one of the best thing to do while waiting and stake it with over 30% APY. 😍\\n\\n#CeFi #Klub $SUSHI https://t.co/S6Kq8D51vj   \n",
       "145871                                                                                 $theta juge profits 💸💸💸\\nJoin us on telegram:\\nhttps://t.co/qiPeI3rPk1\\n\\n$theta $tko $zil $tru $atom $coti $sand $axs $pond $twt $matic $luna $alice $doge $sushi $sol https://t.co/OB2bcxvXy1   \n",
       "145870                                                 $SUSHI\\nFirst test of the previous resistence now support done, price already up 3% from the test, bullish engulfing is forming on 4H, a close above 9.3 and I don't think 9.6 will cap the price again https://t.co/DXpEPGA6ZK   \n",
       "145869                                                                        [Spot] By 2021-08-05 13:00 GMT, SUSHI net cap flow of $27M with a price change of 0.8% in last 24 hrs. Free Alert: https://t.co/10DW3v7XKs #cryptocurrency #CryptoCapFlow $SUSHI https://t.co/OXvL5CDGLs   \n",
       "145868                                                                                                                                               $SUSHI $DOT $MKR $LUNA $AAVE $ADA $NEO \\n\\nALLLLLL looking good right now! \\n\\n$BTC BEHAVE YOU BIATCH!!\\n\\n#Crypto #cryptotrading   \n",
       "145867                                                                            If you bought #Crypto during the crash, YOU ARE INTELLIGENT INVESTORS! \\nAnd soOn, YOU WILL BE RICH!!!!\\n$ICP $ADA $CGLD $ETC $BTC $FORTH $VGX $OMG $VET $FIL $XTZ $XRP $XLM $ETH $doge $LINK $Sushi   \n",
       "145866                                                                                    @AdamHODL Make it yours, Make it digital. \\nWith @ethernaal #NFT Tatoo. Our artists will bring you some true pieces of art. $NAAL \\n\\n#Ethernaal $Sushi #Miso #IDO #Tattoo #DeFi  #NFT #NF2T   \n",
       "145865  🚀 $SUSHI may go up\\n✅ BINANCE\\n📈 TRADINGVIEW: https://t.co/xf73kEe8bw\\n✅ BITTREX\\n📈 TRADINGVIEW: https://t.co/Mp3RquLzyT\\n💱 Price: 0.00022421 BTC\\n📊 1H: 0.87%\\n📊 24H: 1.37%\\n📊 7D: 9.58%\\n💰 24H Vol: $368,754,743\\nℹ This is not an investment advice. #DYOR #YTD #Robostopia   \n",
       "145864                   📈 $SUSHI up 9.55487% in last 24 hrs, with current price $9.19\\n📊 $SUSHI trading volume $392,188,826\\n\\n🐳 SUSHI volume of the top 1000 ETH wallets (24hrs) 🐳\\n\\n➡️ $299,505 in\\n⬅️ $977,188 out\\n💹 Net flow: -$677,683\\n\\n#SUSHI #ERC20 #DEFI #ETH #whalestats   \n",
       "145874                                                     Daytrade 🚥\\n$ENJ 🟢 $1.40\\n$HNT 🟢 $13.59\\n$RUNE 🟡 $7.79\\n$HOT 🟡 $0.006831\\n$SUSHI 🟡 $9.23\\n$NEAR 🟢 $2.47\\n$BAT 🟢 $0.6834\\n$MDX 🟢 $1.22\\n$ZIL 🟢 $0.08893\\n$BTG 🟢 $55.08\\nGo https://t.co/xzqH6LyCnS for more #crypto #signals   \n",
       "145863                                                                                                                                                        Let’s have some fun $UNI vs $SUSHI and $COIN.  This thing is set to outperform both per demarks. https://t.co/Yi4WIkwBCI   \n",
       "\n",
       "       coin_id   datasource  \\\n",
       "145292     eth  othertweets   \n",
       "146856    cake  othertweets   \n",
       "145583     eth  othertweets   \n",
       "145585     eth  othertweets   \n",
       "145873   sushi  othertweets   \n",
       "145872   sushi  othertweets   \n",
       "145871   sushi  othertweets   \n",
       "145870   sushi  othertweets   \n",
       "145869   sushi  othertweets   \n",
       "145868   sushi  othertweets   \n",
       "145867   sushi  othertweets   \n",
       "145866   sushi  othertweets   \n",
       "145865   sushi  othertweets   \n",
       "145864   sushi  othertweets   \n",
       "145874   sushi  othertweets   \n",
       "145863   sushi  othertweets   \n",
       "\n",
       "                                                                                                                                                                              clean_text  \n",
       "145292                                        thanks much elon musk sent eth got back 50 highly recommended ethereum eth eth dogecoin ethereum doge bitcoin btc btc bnb binance coinbase  \n",
       "146856                                                                     babycake babycakebsc cake pancakeswap bscgems bscnews cryptonews crypto decentralized finance cz_binance cake  \n",
       "145583                                                                                                                                                                           eth 10k  \n",
       "145585                                                                                                    long term bullish eth cvp bsc binance support bscdefi portfolio cvp bound moon  \n",
       "145873                          inaugural numi set ogs btc eth numi earn limited og satoshi numi like big dexs not lie uni cake 1inch sushi first 10 complete earn bigdex numi continued  \n",
       "145872                                                ready get invited upgrade adoption getting near buying xki one best thing waiting stake 30 annual percentage yield cefi klub sushi  \n",
       "145871                                                                    theta juge profit join u telegram theta tko zil tru atom coti sand ax pond twt matic luna alice doge sushi sol  \n",
       "145870                                   sushi first test previous resistence now support done price already up test bullish engulfing forming 4h close above 93 not_ think 96 cap price  \n",
       "145869                                                            spot 20210805 1300 gmt sushi net cap flow 27m price change 08 last 24 hr free alert cryptocurrency cryptocapflow sushi  \n",
       "145868                                                                             sushi dot mkr luna aave ada neo allllll looking good right now btc behave biatch crypto cryptotrading  \n",
       "145867                                                     bought crypto crash intelligent investor soon rich icp ada cgld etc btc forth vgx omg vet fil xtz xrp xlm eth doge link sushi  \n",
       "145866                         make make digital non fungible token tatoo artist bring true piece art naal ethernaal sushi miso ido tattoo decentralized finance non fungible token nf2t  \n",
       "145865          sushi may go up binance tradingview bittrex tradingview price 000022421 btc 1h 087 24h 137 7d 958 24h vol 368754743 not_ investment advice research year date robostopia  \n",
       "145864  sushi up 955487 last 24 hr current price 919 sushi trading volume 392188826 sushi volume top 1000 eth wallet 24hrs 299505 977188 net flow 677683 sushi erc20 defi eth whalestats  \n",
       "145874                                                          daytrade enj 140 hnt 1359 rune 779 hot 0006831 sushi 923 near 247 bat 06834 mdx 122 zil 008893 btg 5508 go crypto signal  \n",
       "145863                                                                                                                       let u fun uni v sushi coin thing set outperform per demarks  "
      ]
     },
     "execution_count": 266,
     "metadata": {},
     "output_type": "execute_result"
    }
   ],
   "source": [
    "df_2.iloc[len(text_pairs)//2: len(text_pairs)//2 + 16]"
   ]
  },
  {
   "cell_type": "code",
   "execution_count": 274,
   "metadata": {},
   "outputs": [],
   "source": [
    "df_2.to_csv('BetterCleaned.csv', index=False)"
   ]
  }
 ],
 "metadata": {
  "kernelspec": {
   "display_name": "Python 3",
   "language": "python",
   "name": "python3"
  },
  "language_info": {
   "codemirror_mode": {
    "name": "ipython",
    "version": 3
   },
   "file_extension": ".py",
   "mimetype": "text/x-python",
   "name": "python",
   "nbconvert_exporter": "python",
   "pygments_lexer": "ipython3",
   "version": "3.11.2"
  }
 },
 "nbformat": 4,
 "nbformat_minor": 2
}
