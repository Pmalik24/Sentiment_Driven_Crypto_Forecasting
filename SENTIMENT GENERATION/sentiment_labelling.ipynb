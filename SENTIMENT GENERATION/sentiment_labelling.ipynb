{
 "cells": [
  {
   "cell_type": "code",
   "execution_count": 28,
   "metadata": {},
   "outputs": [],
   "source": [
    "import pandas as pd \n",
    "pd.set_option('max_colwidth', None)\n",
    "pd.options.display.max_rows = 10000\n",
    "from transformers import BertTokenizer, BertForSequenceClassification\n",
    "from transformers import pipeline\n",
    "import torch\n",
    "from torch.nn.functional import softmax"
   ]
  },
  {
   "cell_type": "code",
   "execution_count": 4,
   "metadata": {},
   "outputs": [],
   "source": [
    "file = './BetterCleaned.csv'\n",
    "df = pd.read_csv(file, low_memory=False)\n",
    "df['created_at'] = pd.to_datetime(df['created_at'], format='%Y-%m-%d')\n",
    "df = df.sort_values('created_at')"
   ]
  },
  {
   "cell_type": "code",
   "execution_count": 9,
   "metadata": {},
   "outputs": [
    {
     "data": {
      "application/vnd.jupyter.widget-view+json": {
       "model_id": "0500fa299f9845da8cbfb3698e25cc8e",
       "version_major": 2,
       "version_minor": 0
      },
      "text/plain": [
       "pytorch_model.bin:   0%|          | 0.00/438M [00:00<?, ?B/s]"
      ]
     },
     "metadata": {},
     "output_type": "display_data"
    }
   ],
   "source": [
    "# Load pre-trained model and tokenizer\n",
    "tokenizer = BertTokenizer.from_pretrained('ProsusAI/finbert')\n",
    "model = BertForSequenceClassification.from_pretrained('ProsusAI/finbert')"
   ]
  },
  {
   "cell_type": "code",
   "execution_count": null,
   "metadata": {},
   "outputs": [],
   "source": [
    "# Create a pipeline for sentiment analysis\n",
    "finbert_sentiment_pipeline = pipeline(\"sentiment-analysis\", model=model, tokenizer=tokenizer)"
   ]
  },
  {
   "cell_type": "code",
   "execution_count": 22,
   "metadata": {},
   "outputs": [
    {
     "name": "stdout",
     "output_type": "stream",
     "text": [
      "[{'label': 'positive', 'score': 0.7929679155349731}]\n"
     ]
    }
   ],
   "source": [
    "# Example usage\n",
    "print(finbert_sentiment_pipeline(\"long term bullish eth cvp bsc binance support bscdefi portfolio cvp bound moon\"))"
   ]
  },
  {
   "cell_type": "code",
   "execution_count": null,
   "metadata": {},
   "outputs": [],
   "source": [
    "df[['full_text', 'clean_text']].tail()#[len(df)//2 : len(df)//2 + 500]"
   ]
  },
  {
   "cell_type": "markdown",
   "metadata": {},
   "source": [
    "**TESTING ON A SAMPLE FROM SET BEFORE APPLYING TO DF**"
   ]
  },
  {
   "cell_type": "code",
   "execution_count": 23,
   "metadata": {},
   "outputs": [],
   "source": [
    "# Tokenize the input text and convert to a PyTorch tensor\n",
    "inputs = tokenizer(\"long term bullish eth cvp bsc binance support bscdefi portfolio cvp bound moon\", return_tensors=\"pt\")"
   ]
  },
  {
   "cell_type": "code",
   "execution_count": 24,
   "metadata": {},
   "outputs": [],
   "source": [
    "# Get the logits from the model\n",
    "outputs = model(**inputs)\n",
    "logits = outputs.logits"
   ]
  },
  {
   "cell_type": "code",
   "execution_count": 29,
   "metadata": {},
   "outputs": [],
   "source": [
    "# Apply the softmax function to convert logits to probabilities\n",
    "probabilities = softmax(logits, dim=1)"
   ]
  },
  {
   "cell_type": "code",
   "execution_count": 30,
   "metadata": {},
   "outputs": [],
   "source": [
    "# Convert the probabilities to a list\n",
    "probabilities = probabilities.tolist()[0]"
   ]
  },
  {
   "cell_type": "code",
   "execution_count": 31,
   "metadata": {},
   "outputs": [
    {
     "name": "stdout",
     "output_type": "stream",
     "text": [
      "[('positive', 0.7929679155349731), ('negative', 0.015914522111415863), ('neutral', 0.191117525100708)]\n"
     ]
    }
   ],
   "source": [
    "# Map each probability to the corresponding label\n",
    "labels = model.config.id2label\n",
    "probabilities_with_labels = [(labels[i], prob) for i, prob in enumerate(probabilities)]\n",
    "\n",
    "print(probabilities_with_labels)"
   ]
  },
  {
   "cell_type": "markdown",
   "metadata": {},
   "source": [
    "**APPLYING TO DF NOW**"
   ]
  },
  {
   "cell_type": "code",
   "execution_count": 33,
   "metadata": {},
   "outputs": [],
   "source": [
    "def get_sentiment_probabilities(text):\n",
    "    inputs = tokenizer(text, return_tensors=\"pt\")\n",
    "    with torch.no_grad():  # Disabling gradient calculation for inference\n",
    "        outputs = model(**inputs)\n",
    "        logits = outputs.logits\n",
    "        probabilities = softmax(logits, dim=1).tolist()[0]\n",
    "    labels = model.config.id2label\n",
    "    return {labels[i]: prob for i, prob in enumerate(probabilities)}"
   ]
  },
  {
   "cell_type": "code",
   "execution_count": 36,
   "metadata": {},
   "outputs": [
    {
     "name": "stderr",
     "output_type": "stream",
     "text": [
      "100%|██████████| 8514/8514 [1:45:46<00:00,  1.34it/s]\n"
     ]
    }
   ],
   "source": [
    "from tqdm import tqdm\n",
    "\n",
    "# Clean the DataFrame to ensure all entries are strings\n",
    "df = df[df['clean_text'].apply(lambda x: isinstance(x, str))]\n",
    "\n",
    "batch_size = 32\n",
    "results = []\n",
    "\n",
    "for i in tqdm(range(0, len(df['clean_text']), batch_size)):\n",
    "    batch = df['clean_text'][i:i+batch_size].tolist()\n",
    "    inputs = tokenizer(batch, padding=True, truncation=True, return_tensors=\"pt\")\n",
    "    with torch.no_grad():\n",
    "        outputs = model(**inputs)\n",
    "        probabilities = softmax(outputs.logits, dim=1).tolist()\n",
    "        results.extend(probabilities)\n",
    "\n",
    "# Map probabilities to labels and add to DataFrame\n",
    "df['sentiment_probabilities'] = [dict(zip(model.config.id2label.values(), r)) for r in results]\n"
   ]
  },
  {
   "cell_type": "code",
   "execution_count": 37,
   "metadata": {},
   "outputs": [
    {
     "data": {
      "text/html": [
       "<div>\n",
       "<style scoped>\n",
       "    .dataframe tbody tr th:only-of-type {\n",
       "        vertical-align: middle;\n",
       "    }\n",
       "\n",
       "    .dataframe tbody tr th {\n",
       "        vertical-align: top;\n",
       "    }\n",
       "\n",
       "    .dataframe thead th {\n",
       "        text-align: right;\n",
       "    }\n",
       "</style>\n",
       "<table border=\"1\" class=\"dataframe\">\n",
       "  <thead>\n",
       "    <tr style=\"text-align: right;\">\n",
       "      <th></th>\n",
       "      <th>created_at</th>\n",
       "      <th>like_count</th>\n",
       "      <th>quote_count</th>\n",
       "      <th>reply_count</th>\n",
       "      <th>retweet_count</th>\n",
       "      <th>full_text</th>\n",
       "      <th>coin_id</th>\n",
       "      <th>datasource</th>\n",
       "      <th>clean_text</th>\n",
       "      <th>sentiment_probabilities</th>\n",
       "    </tr>\n",
       "  </thead>\n",
       "  <tbody>\n",
       "    <tr>\n",
       "      <th>0</th>\n",
       "      <td>2021-02-01</td>\n",
       "      <td>154</td>\n",
       "      <td>NaN</td>\n",
       "      <td>18</td>\n",
       "      <td>23</td>\n",
       "      <td>#privacy is a human right. learn how to make your #bitcoin transactions more private in this clip: https://t.co/fnadsxffcu https://t.co/nznajw8g2m</td>\n",
       "      <td>btc</td>\n",
       "      <td>influtweets</td>\n",
       "      <td>privacy human right learn make bitcoin transaction private clip</td>\n",
       "      <td>{'positive': 0.03522004932165146, 'negative': 0.027227938175201416, 'neutral': 0.9375520348548889}</td>\n",
       "    </tr>\n",
       "    <tr>\n",
       "      <th>1</th>\n",
       "      <td>2021-02-01</td>\n",
       "      <td>65</td>\n",
       "      <td>NaN</td>\n",
       "      <td>8</td>\n",
       "      <td>13</td>\n",
       "      <td>attended any of the 30+ livestream events iâve held over the last year? together, weâve learned a lot about #bitcoin #ethereum &amp;amp; #lightningnetwork. starting this month iâll be moving them to sundays. subscribe to be notified as they're announced: https://t.co/rgoqfv22mr https://t.co/ec4ugzrilq</td>\n",
       "      <td>amp</td>\n",
       "      <td>influtweets</td>\n",
       "      <td>attended 30 livestream event ive held last year together weve learned lot bitcoin ethereum lightningnetwork starting month ill moving sunday subscribe notified announced</td>\n",
       "      <td>{'positive': 0.14518015086650848, 'negative': 0.01218145340681076, 'neutral': 0.842638373374939}</td>\n",
       "    </tr>\n",
       "    <tr>\n",
       "      <th>2</th>\n",
       "      <td>2021-02-01</td>\n",
       "      <td>65</td>\n",
       "      <td>NaN</td>\n",
       "      <td>8</td>\n",
       "      <td>13</td>\n",
       "      <td>attended any of the 30+ livestream events iâve held over the last year? together, weâve learned a lot about #bitcoin #ethereum &amp;amp; #lightningnetwork. starting this month iâll be moving them to sundays. subscribe to be notified as they're announced: https://t.co/rgoqfv22mr https://t.co/ec4ugzrilq</td>\n",
       "      <td>btc</td>\n",
       "      <td>influtweets</td>\n",
       "      <td>attended 30 livestream event ive held last year together weve learned lot bitcoin ethereum lightningnetwork starting month ill moving sunday subscribe notified announced</td>\n",
       "      <td>{'positive': 0.14518015086650848, 'negative': 0.01218145340681076, 'neutral': 0.842638373374939}</td>\n",
       "    </tr>\n",
       "    <tr>\n",
       "      <th>3</th>\n",
       "      <td>2021-02-01</td>\n",
       "      <td>65</td>\n",
       "      <td>NaN</td>\n",
       "      <td>8</td>\n",
       "      <td>13</td>\n",
       "      <td>attended any of the 30+ livestream events iâve held over the last year? together, weâve learned a lot about #bitcoin #ethereum &amp;amp; #lightningnetwork. starting this month iâll be moving them to sundays. subscribe to be notified as they're announced: https://t.co/rgoqfv22mr https://t.co/ec4ugzrilq</td>\n",
       "      <td>eth</td>\n",
       "      <td>influtweets</td>\n",
       "      <td>attended 30 livestream event ive held last year together weve learned lot bitcoin ethereum lightningnetwork starting month ill moving sunday subscribe notified announced</td>\n",
       "      <td>{'positive': 0.14518015086650848, 'negative': 0.012181459926068783, 'neutral': 0.842638373374939}</td>\n",
       "    </tr>\n",
       "    <tr>\n",
       "      <th>4</th>\n",
       "      <td>2021-02-01</td>\n",
       "      <td>1</td>\n",
       "      <td>1.0</td>\n",
       "      <td>1</td>\n",
       "      <td>1</td>\n",
       "      <td>Own shares in both $STC and $WELL</td>\n",
       "      <td>stc</td>\n",
       "      <td>othertweets</td>\n",
       "      <td>share stc well</td>\n",
       "      <td>{'positive': 0.04716747626662254, 'negative': 0.020153099671006203, 'neutral': 0.9326794147491455}</td>\n",
       "    </tr>\n",
       "  </tbody>\n",
       "</table>\n",
       "</div>"
      ],
      "text/plain": [
       "  created_at  like_count  quote_count  reply_count  retweet_count  \\\n",
       "0 2021-02-01         154          NaN           18             23   \n",
       "1 2021-02-01          65          NaN            8             13   \n",
       "2 2021-02-01          65          NaN            8             13   \n",
       "3 2021-02-01          65          NaN            8             13   \n",
       "4 2021-02-01           1          1.0            1              1   \n",
       "\n",
       "                                                                                                                                                                                                                                                                                                          full_text  \\\n",
       "0                                                                                                                                                                #privacy is a human right. learn how to make your #bitcoin transactions more private in this clip: https://t.co/fnadsxffcu https://t.co/nznajw8g2m   \n",
       "1  attended any of the 30+ livestream events iâve held over the last year? together, weâve learned a lot about #bitcoin #ethereum &amp; #lightningnetwork. starting this month iâll be moving them to sundays. subscribe to be notified as they're announced: https://t.co/rgoqfv22mr https://t.co/ec4ugzrilq   \n",
       "2  attended any of the 30+ livestream events iâve held over the last year? together, weâve learned a lot about #bitcoin #ethereum &amp; #lightningnetwork. starting this month iâll be moving them to sundays. subscribe to be notified as they're announced: https://t.co/rgoqfv22mr https://t.co/ec4ugzrilq   \n",
       "3  attended any of the 30+ livestream events iâve held over the last year? together, weâve learned a lot about #bitcoin #ethereum &amp; #lightningnetwork. starting this month iâll be moving them to sundays. subscribe to be notified as they're announced: https://t.co/rgoqfv22mr https://t.co/ec4ugzrilq   \n",
       "4                                                                                                                                                                                                                                                                                 Own shares in both $STC and $WELL   \n",
       "\n",
       "  coin_id   datasource  \\\n",
       "0     btc  influtweets   \n",
       "1     amp  influtweets   \n",
       "2     btc  influtweets   \n",
       "3     eth  influtweets   \n",
       "4     stc  othertweets   \n",
       "\n",
       "                                                                                                                                                                  clean_text  \\\n",
       "0                                                                                                            privacy human right learn make bitcoin transaction private clip   \n",
       "1  attended 30 livestream event ive held last year together weve learned lot bitcoin ethereum lightningnetwork starting month ill moving sunday subscribe notified announced   \n",
       "2  attended 30 livestream event ive held last year together weve learned lot bitcoin ethereum lightningnetwork starting month ill moving sunday subscribe notified announced   \n",
       "3  attended 30 livestream event ive held last year together weve learned lot bitcoin ethereum lightningnetwork starting month ill moving sunday subscribe notified announced   \n",
       "4                                                                                                                                                             share stc well   \n",
       "\n",
       "                                                                              sentiment_probabilities  \n",
       "0  {'positive': 0.03522004932165146, 'negative': 0.027227938175201416, 'neutral': 0.9375520348548889}  \n",
       "1    {'positive': 0.14518015086650848, 'negative': 0.01218145340681076, 'neutral': 0.842638373374939}  \n",
       "2    {'positive': 0.14518015086650848, 'negative': 0.01218145340681076, 'neutral': 0.842638373374939}  \n",
       "3   {'positive': 0.14518015086650848, 'negative': 0.012181459926068783, 'neutral': 0.842638373374939}  \n",
       "4  {'positive': 0.04716747626662254, 'negative': 0.020153099671006203, 'neutral': 0.9326794147491455}  "
      ]
     },
     "execution_count": 37,
     "metadata": {},
     "output_type": "execute_result"
    }
   ],
   "source": [
    "df.head()"
   ]
  },
  {
   "cell_type": "code",
   "execution_count": 38,
   "metadata": {},
   "outputs": [],
   "source": [
    "df.to_csv('clean_plus_labelled.csv', index=False)"
   ]
  }
 ],
 "metadata": {
  "kernelspec": {
   "display_name": "Python 3",
   "language": "python",
   "name": "python3"
  },
  "language_info": {
   "codemirror_mode": {
    "name": "ipython",
    "version": 3
   },
   "file_extension": ".py",
   "mimetype": "text/x-python",
   "name": "python",
   "nbconvert_exporter": "python",
   "pygments_lexer": "ipython3",
   "version": "3.11.2"
  }
 },
 "nbformat": 4,
 "nbformat_minor": 2
}
