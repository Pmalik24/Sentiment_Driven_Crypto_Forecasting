{
 "cells": [
  {
   "cell_type": "code",
   "execution_count": 1,
   "id": "d5d35a74",
   "metadata": {},
   "outputs": [],
   "source": [
    "import pandas as pd\n"
   ]
  },
  {
   "cell_type": "code",
   "execution_count": 2,
   "id": "4c347250",
   "metadata": {},
   "outputs": [],
   "source": [
    "data = pd.read_csv('final_final_final.csv')"
   ]
  },
  {
   "cell_type": "code",
   "execution_count": 10,
   "id": "714beb72",
   "metadata": {},
   "outputs": [
    {
     "name": "stdout",
     "output_type": "stream",
     "text": [
      "<class 'pandas.core.frame.DataFrame'>\n",
      "RangeIndex: 272440 entries, 0 to 272439\n",
      "Data columns (total 11 columns):\n",
      " #   Column                   Non-Null Count   Dtype  \n",
      "---  ------                   --------------   -----  \n",
      " 0   created_at               272440 non-null  object \n",
      " 1   like_count               272440 non-null  int64  \n",
      " 2   quote_count              245691 non-null  float64\n",
      " 3   reply_count              272440 non-null  int64  \n",
      " 4   retweet_count            272440 non-null  int64  \n",
      " 5   full_text                272440 non-null  object \n",
      " 6   coin_id                  272440 non-null  object \n",
      " 7   datasource               272440 non-null  object \n",
      " 8   clean_text               272440 non-null  object \n",
      " 9   sentiment_probabilities  272440 non-null  object \n",
      " 10  highest_prob_label       272440 non-null  object \n",
      "dtypes: float64(1), int64(3), object(7)\n",
      "memory usage: 22.9+ MB\n"
     ]
    }
   ],
   "source": [
    "data.info()"
   ]
  },
  {
   "cell_type": "code",
   "execution_count": 32,
   "id": "ceecb926",
   "metadata": {},
   "outputs": [
    {
     "data": {
      "text/html": [
       "<div>\n",
       "<style scoped>\n",
       "    .dataframe tbody tr th:only-of-type {\n",
       "        vertical-align: middle;\n",
       "    }\n",
       "\n",
       "    .dataframe tbody tr th {\n",
       "        vertical-align: top;\n",
       "    }\n",
       "\n",
       "    .dataframe thead th {\n",
       "        text-align: right;\n",
       "    }\n",
       "</style>\n",
       "<table border=\"1\" class=\"dataframe\">\n",
       "  <thead>\n",
       "    <tr style=\"text-align: right;\">\n",
       "      <th></th>\n",
       "      <th>created_at</th>\n",
       "      <th>like_count</th>\n",
       "      <th>quote_count</th>\n",
       "      <th>reply_count</th>\n",
       "      <th>retweet_count</th>\n",
       "      <th>full_text</th>\n",
       "      <th>coin_id</th>\n",
       "      <th>datasource</th>\n",
       "      <th>clean_text</th>\n",
       "      <th>sentiment_probabilities</th>\n",
       "      <th>highest_prob_label</th>\n",
       "    </tr>\n",
       "  </thead>\n",
       "  <tbody>\n",
       "    <tr>\n",
       "      <th>1712</th>\n",
       "      <td>2/15/21</td>\n",
       "      <td>0</td>\n",
       "      <td>0.0</td>\n",
       "      <td>0</td>\n",
       "      <td>0</td>\n",
       "      <td>@elonmusk You should support $sfp #sfp too</td>\n",
       "      <td>sfp</td>\n",
       "      <td>othertweets</td>\n",
       "      <td>support sfp sfp</td>\n",
       "      <td>OrderedDict([('neutral', 0.9157), ('positive',...</td>\n",
       "      <td>neutral</td>\n",
       "    </tr>\n",
       "    <tr>\n",
       "      <th>1713</th>\n",
       "      <td>2/15/21</td>\n",
       "      <td>0</td>\n",
       "      <td>0.0</td>\n",
       "      <td>0</td>\n",
       "      <td>0</td>\n",
       "      <td>@Bridge_Mutual will serve as the smart contrac...</td>\n",
       "      <td>sfp</td>\n",
       "      <td>othertweets</td>\n",
       "      <td>serve smart contract stable coin centralized p...</td>\n",
       "      <td>OrderedDict([('neutral', 0.8805), ('positive',...</td>\n",
       "      <td>neutral</td>\n",
       "    </tr>\n",
       "    <tr>\n",
       "      <th>1714</th>\n",
       "      <td>2/15/21</td>\n",
       "      <td>0</td>\n",
       "      <td>0.0</td>\n",
       "      <td>0</td>\n",
       "      <td>0</td>\n",
       "      <td>🔥 SafePal Wallet Valentine Airdrop 🔥\\n\\n🎁 Rewa...</td>\n",
       "      <td>sfp</td>\n",
       "      <td>othertweets</td>\n",
       "      <td>safepal wallet valentine airdrop reward pool 3...</td>\n",
       "      <td>OrderedDict([('neutral', 0.8465), ('positive',...</td>\n",
       "      <td>neutral</td>\n",
       "    </tr>\n",
       "    <tr>\n",
       "      <th>1715</th>\n",
       "      <td>2/15/21</td>\n",
       "      <td>0</td>\n",
       "      <td>0.0</td>\n",
       "      <td>0</td>\n",
       "      <td>0</td>\n",
       "      <td>$BTG #BTG go to moon 🚀🚀@elonmusk @WSBChairman ...</td>\n",
       "      <td>sfp</td>\n",
       "      <td>othertweets</td>\n",
       "      <td>btg btg go moon btc eth bnb xrp xlm crv yfi al...</td>\n",
       "      <td>OrderedDict([('neutral', 0.9126), ('positive',...</td>\n",
       "      <td>neutral</td>\n",
       "    </tr>\n",
       "    <tr>\n",
       "      <th>1716</th>\n",
       "      <td>2/15/21</td>\n",
       "      <td>2</td>\n",
       "      <td>2.0</td>\n",
       "      <td>2</td>\n",
       "      <td>2</td>\n",
       "      <td>DA FUCK!!! WHATS GOIN ON!!!!!\\n $ADA $LUNA $LI...</td>\n",
       "      <td>sfp</td>\n",
       "      <td>othertweets</td>\n",
       "      <td>da fuck goin ada luna lit sfp</td>\n",
       "      <td>OrderedDict([('neutral', 0.931), ('positive', ...</td>\n",
       "      <td>neutral</td>\n",
       "    </tr>\n",
       "    <tr>\n",
       "      <th>...</th>\n",
       "      <td>...</td>\n",
       "      <td>...</td>\n",
       "      <td>...</td>\n",
       "      <td>...</td>\n",
       "      <td>...</td>\n",
       "      <td>...</td>\n",
       "      <td>...</td>\n",
       "      <td>...</td>\n",
       "      <td>...</td>\n",
       "      <td>...</td>\n",
       "      <td>...</td>\n",
       "    </tr>\n",
       "    <tr>\n",
       "      <th>1981</th>\n",
       "      <td>2/15/21</td>\n",
       "      <td>0</td>\n",
       "      <td>0.0</td>\n",
       "      <td>0</td>\n",
       "      <td>0</td>\n",
       "      <td>Student Coin is the first platform that allows...</td>\n",
       "      <td>stc</td>\n",
       "      <td>othertweets</td>\n",
       "      <td>student coin first platform allows user easily...</td>\n",
       "      <td>OrderedDict([('neutral', 0.8967), ('positive',...</td>\n",
       "      <td>neutral</td>\n",
       "    </tr>\n",
       "    <tr>\n",
       "      <th>1982</th>\n",
       "      <td>2/15/21</td>\n",
       "      <td>3</td>\n",
       "      <td>NaN</td>\n",
       "      <td>0</td>\n",
       "      <td>2</td>\n",
       "      <td>hang on for a bumpy ride: btc 30d annualized v...</td>\n",
       "      <td>btc</td>\n",
       "      <td>influtweets</td>\n",
       "      <td>hang bumpy ride btc 30d annualized volatility ...</td>\n",
       "      <td>OrderedDict([('positive', 0.8797), ('neutral',...</td>\n",
       "      <td>positive</td>\n",
       "    </tr>\n",
       "    <tr>\n",
       "      <th>1983</th>\n",
       "      <td>2/15/21</td>\n",
       "      <td>3</td>\n",
       "      <td>NaN</td>\n",
       "      <td>0</td>\n",
       "      <td>2</td>\n",
       "      <td>hang on for a bumpy ride: btc 30d annualized v...</td>\n",
       "      <td>gt</td>\n",
       "      <td>influtweets</td>\n",
       "      <td>hang bumpy ride btc 30d annualized volatility ...</td>\n",
       "      <td>OrderedDict([('positive', 0.8797), ('neutral',...</td>\n",
       "      <td>positive</td>\n",
       "    </tr>\n",
       "    <tr>\n",
       "      <th>1984</th>\n",
       "      <td>2/15/21</td>\n",
       "      <td>2212</td>\n",
       "      <td>NaN</td>\n",
       "      <td>418</td>\n",
       "      <td>557</td>\n",
       "      <td>a doc detailing a proposal for the first hard ...</td>\n",
       "      <td>eth</td>\n",
       "      <td>influtweets</td>\n",
       "      <td>doc detailing proposal first hard fork tentati...</td>\n",
       "      <td>OrderedDict([('neutral', 0.7664), ('positive',...</td>\n",
       "      <td>neutral</td>\n",
       "    </tr>\n",
       "    <tr>\n",
       "      <th>1985</th>\n",
       "      <td>2/15/21</td>\n",
       "      <td>0</td>\n",
       "      <td>0.0</td>\n",
       "      <td>0</td>\n",
       "      <td>0</td>\n",
       "      <td>@stevena09629409 get in my stream were talking...</td>\n",
       "      <td>stc</td>\n",
       "      <td>othertweets</td>\n",
       "      <td>get stream talking studennt coin stc</td>\n",
       "      <td>OrderedDict([('neutral', 0.894), ('positive', ...</td>\n",
       "      <td>neutral</td>\n",
       "    </tr>\n",
       "  </tbody>\n",
       "</table>\n",
       "<p>274 rows × 11 columns</p>\n",
       "</div>"
      ],
      "text/plain": [
       "     created_at  like_count  quote_count  reply_count  retweet_count  \\\n",
       "1712    2/15/21           0          0.0            0              0   \n",
       "1713    2/15/21           0          0.0            0              0   \n",
       "1714    2/15/21           0          0.0            0              0   \n",
       "1715    2/15/21           0          0.0            0              0   \n",
       "1716    2/15/21           2          2.0            2              2   \n",
       "...         ...         ...          ...          ...            ...   \n",
       "1981    2/15/21           0          0.0            0              0   \n",
       "1982    2/15/21           3          NaN            0              2   \n",
       "1983    2/15/21           3          NaN            0              2   \n",
       "1984    2/15/21        2212          NaN          418            557   \n",
       "1985    2/15/21           0          0.0            0              0   \n",
       "\n",
       "                                              full_text coin_id   datasource  \\\n",
       "1712         @elonmusk You should support $sfp #sfp too     sfp  othertweets   \n",
       "1713  @Bridge_Mutual will serve as the smart contrac...     sfp  othertweets   \n",
       "1714  🔥 SafePal Wallet Valentine Airdrop 🔥\\n\\n🎁 Rewa...     sfp  othertweets   \n",
       "1715  $BTG #BTG go to moon 🚀🚀@elonmusk @WSBChairman ...     sfp  othertweets   \n",
       "1716  DA FUCK!!! WHATS GOIN ON!!!!!\\n $ADA $LUNA $LI...     sfp  othertweets   \n",
       "...                                                 ...     ...          ...   \n",
       "1981  Student Coin is the first platform that allows...     stc  othertweets   \n",
       "1982  hang on for a bumpy ride: btc 30d annualized v...     btc  influtweets   \n",
       "1983  hang on for a bumpy ride: btc 30d annualized v...      gt  influtweets   \n",
       "1984  a doc detailing a proposal for the first hard ...     eth  influtweets   \n",
       "1985  @stevena09629409 get in my stream were talking...     stc  othertweets   \n",
       "\n",
       "                                             clean_text  \\\n",
       "1712                                    support sfp sfp   \n",
       "1713  serve smart contract stable coin centralized p...   \n",
       "1714  safepal wallet valentine airdrop reward pool 3...   \n",
       "1715  btg btg go moon btc eth bnb xrp xlm crv yfi al...   \n",
       "1716                      da fuck goin ada luna lit sfp   \n",
       "...                                                 ...   \n",
       "1981  student coin first platform allows user easily...   \n",
       "1982  hang bumpy ride btc 30d annualized volatility ...   \n",
       "1983  hang bumpy ride btc 30d annualized volatility ...   \n",
       "1984  doc detailing proposal first hard fork tentati...   \n",
       "1985               get stream talking studennt coin stc   \n",
       "\n",
       "                                sentiment_probabilities highest_prob_label  \n",
       "1712  OrderedDict([('neutral', 0.9157), ('positive',...            neutral  \n",
       "1713  OrderedDict([('neutral', 0.8805), ('positive',...            neutral  \n",
       "1714  OrderedDict([('neutral', 0.8465), ('positive',...            neutral  \n",
       "1715  OrderedDict([('neutral', 0.9126), ('positive',...            neutral  \n",
       "1716  OrderedDict([('neutral', 0.931), ('positive', ...            neutral  \n",
       "...                                                 ...                ...  \n",
       "1981  OrderedDict([('neutral', 0.8967), ('positive',...            neutral  \n",
       "1982  OrderedDict([('positive', 0.8797), ('neutral',...           positive  \n",
       "1983  OrderedDict([('positive', 0.8797), ('neutral',...           positive  \n",
       "1984  OrderedDict([('neutral', 0.7664), ('positive',...            neutral  \n",
       "1985  OrderedDict([('neutral', 0.894), ('positive', ...            neutral  \n",
       "\n",
       "[274 rows x 11 columns]"
      ]
     },
     "execution_count": 32,
     "metadata": {},
     "output_type": "execute_result"
    }
   ],
   "source": [
    "data[data.created_at == '2/15/21']\n"
   ]
  },
  {
   "cell_type": "code",
   "execution_count": 31,
   "id": "5fe636b1",
   "metadata": {},
   "outputs": [
    {
     "data": {
      "text/plain": [
       "858"
      ]
     },
     "execution_count": 31,
     "metadata": {},
     "output_type": "execute_result"
    }
   ],
   "source": [
    "# How many Days Are there in the Whole Dataset\n",
    "len(data.created_at.unique())"
   ]
  },
  {
   "cell_type": "code",
   "execution_count": 33,
   "id": "e16f62e6",
   "metadata": {},
   "outputs": [],
   "source": [
    "# How many Tweets Per Day\n",
    "data['created_at'] = pd.to_datetime(data['created_at'], format='%m/%d/%y')\n",
    "\n",
    "# Group by date and count the entries\n",
    "daily_counts = data.groupby(data['created_at'].dt.date).size().reset_index(name='count')\n",
    "\n",
    "# Sort Results By Date\n",
    "daily_counts = daily_counts.sort_values(by='created_at')"
   ]
  },
  {
   "cell_type": "code",
   "execution_count": 69,
   "id": "8610607c",
   "metadata": {},
   "outputs": [
    {
     "data": {
      "text/html": [
       "<div>\n",
       "<style scoped>\n",
       "    .dataframe tbody tr th:only-of-type {\n",
       "        vertical-align: middle;\n",
       "    }\n",
       "\n",
       "    .dataframe tbody tr th {\n",
       "        vertical-align: top;\n",
       "    }\n",
       "\n",
       "    .dataframe thead th {\n",
       "        text-align: right;\n",
       "    }\n",
       "</style>\n",
       "<table border=\"1\" class=\"dataframe\">\n",
       "  <thead>\n",
       "    <tr style=\"text-align: right;\">\n",
       "      <th></th>\n",
       "      <th>created_at</th>\n",
       "      <th>count</th>\n",
       "    </tr>\n",
       "  </thead>\n",
       "  <tbody>\n",
       "    <tr>\n",
       "      <th>0</th>\n",
       "      <td>2021-02-01</td>\n",
       "      <td>11</td>\n",
       "    </tr>\n",
       "    <tr>\n",
       "      <th>1</th>\n",
       "      <td>2021-02-02</td>\n",
       "      <td>11</td>\n",
       "    </tr>\n",
       "    <tr>\n",
       "      <th>2</th>\n",
       "      <td>2021-02-03</td>\n",
       "      <td>18</td>\n",
       "    </tr>\n",
       "    <tr>\n",
       "      <th>3</th>\n",
       "      <td>2021-02-04</td>\n",
       "      <td>20</td>\n",
       "    </tr>\n",
       "    <tr>\n",
       "      <th>4</th>\n",
       "      <td>2021-02-05</td>\n",
       "      <td>25</td>\n",
       "    </tr>\n",
       "    <tr>\n",
       "      <th>...</th>\n",
       "      <td>...</td>\n",
       "      <td>...</td>\n",
       "    </tr>\n",
       "    <tr>\n",
       "      <th>853</th>\n",
       "      <td>2023-06-08</td>\n",
       "      <td>264</td>\n",
       "    </tr>\n",
       "    <tr>\n",
       "      <th>854</th>\n",
       "      <td>2023-06-09</td>\n",
       "      <td>404</td>\n",
       "    </tr>\n",
       "    <tr>\n",
       "      <th>855</th>\n",
       "      <td>2023-06-10</td>\n",
       "      <td>269</td>\n",
       "    </tr>\n",
       "    <tr>\n",
       "      <th>856</th>\n",
       "      <td>2023-06-11</td>\n",
       "      <td>198</td>\n",
       "    </tr>\n",
       "    <tr>\n",
       "      <th>857</th>\n",
       "      <td>2023-06-12</td>\n",
       "      <td>304</td>\n",
       "    </tr>\n",
       "  </tbody>\n",
       "</table>\n",
       "<p>858 rows × 2 columns</p>\n",
       "</div>"
      ],
      "text/plain": [
       "     created_at  count\n",
       "0    2021-02-01     11\n",
       "1    2021-02-02     11\n",
       "2    2021-02-03     18\n",
       "3    2021-02-04     20\n",
       "4    2021-02-05     25\n",
       "..          ...    ...\n",
       "853  2023-06-08    264\n",
       "854  2023-06-09    404\n",
       "855  2023-06-10    269\n",
       "856  2023-06-11    198\n",
       "857  2023-06-12    304\n",
       "\n",
       "[858 rows x 2 columns]"
      ]
     },
     "execution_count": 69,
     "metadata": {},
     "output_type": "execute_result"
    }
   ],
   "source": [
    "daily_counts"
   ]
  },
  {
   "cell_type": "code",
   "execution_count": 35,
   "id": "3fc24473",
   "metadata": {},
   "outputs": [
    {
     "data": {
      "image/png": "[encoded data removed]",
      "text/plain": [
       "<Figure size 1200x600 with 1 Axes>"
      ]
     },
     "metadata": {},
     "output_type": "display_data"
    }
   ],
   "source": [
    "# Tweets Per Day Plotted\n",
    "\n",
    "import matplotlib.pyplot as plt\n",
    "\n",
    "plt.figure(figsize=(12, 6))\n",
    "plt.plot(daily_counts['created_at'], daily_counts['count'])\n",
    "plt.title('Daily Entry Counts Over Time')\n",
    "plt.xlabel('Date')\n",
    "plt.ylabel('Count')\n",
    "plt.grid(True)\n",
    "plt.show()"
   ]
  },
  {
   "cell_type": "code",
   "execution_count": 42,
   "id": "2cad352f",
   "metadata": {
    "collapsed": true
   },
   "outputs": [
    {
     "name": "stdout",
     "output_type": "stream",
     "text": [
      "Mean: 317.52913752913753\n",
      "Median: 22.0\n",
      "Standard Deviation: 1918.6545885868034\n",
      "Mode(s): 6 (Count: 33)\n"
     ]
    },
    {
     "name": "stderr",
     "output_type": "stream",
     "text": [
      "/var/folders/02/ctjwmbv97xn4qlw4lrnhy6240000gn/T/ipykernel_7513/151234279.py:9: FutureWarning: Unlike other reduction functions (e.g. `skew`, `kurtosis`), the default behavior of `mode` typically preserves the axis it acts along. In SciPy 1.11.0, this behavior will change: the default value of `keepdims` will become False, the `axis` over which the statistic is taken will be eliminated, and the value None will no longer be accepted. Set `keepdims` to True or False to avoid this warning.\n",
      "  mode_result = stats.mode(daily_counts['count'])\n"
     ]
    }
   ],
   "source": [
    "from scipy import stats\n",
    "\n",
    "# Calculate mean, median, and standard deviation\n",
    "mean = daily_counts['count'].mean()\n",
    "median = daily_counts['count'].median()\n",
    "std_dev = daily_counts['count'].std()\n",
    "\n",
    "# Calculate mode using scipy.stats.mode, which can return multiple modes if they exist\n",
    "mode_result = stats.mode(daily_counts['count'])\n",
    "mode = mode_result.mode\n",
    "mode_count = mode_result.count[0]\n",
    "\n",
    "# Display the results\n",
    "print(f\"Mean: {mean}\")\n",
    "print(f\"Median: {median}\")\n",
    "print(f\"Standard Deviation: {std_dev}\")\n",
    "print(f\"Mode(s): {', '.join(map(str, mode))} (Count: {mode_count})\")"
   ]
  },
  {
   "cell_type": "code",
   "execution_count": 43,
   "id": "4386a06c",
   "metadata": {
    "scrolled": true
   },
   "outputs": [
    {
     "data": {
      "text/plain": [
       "array(['btc', 'amp', 'eth', 'stc', 'doge', 'link', 'usdt', 'usd', 'elon',\n",
       "       'aave', 'rly', 'knc', 'zrx', 'joe', 'xrp', 'ada', 'dot', 'ever',\n",
       "       'near', 'win', 'qtum', 'sfp', 'zec', 'dgb', 'safe', 'ltc', 'gt',\n",
       "       'request', 'acm', 'ramen', 'ray', 'mask', 'binance', 'huobi',\n",
       "       'trx', 'arc', 'bnt', 'belt', 'tara', 'defit', 'perp', 'etha',\n",
       "       'dai', 'safemars', 'orao', 'ven', 'gusd', 'cook', 'etc', 'mana',\n",
       "       'xmr', 'boson', 'cere', 'uni', 'cspr', 'rose', 'usdc', 'fine',\n",
       "       'husd', 'busd', 'krypto', 'xnl', 'shib', 'flow', 'wec', 'cake',\n",
       "       'latte', 'hotcross', 'cow', 'cfg', 'less', 'mkr', 'nft', 'ren',\n",
       "       'safebtc', 'chz', 'sol', 'itgr', 'algo', 'bzz', 'hmt', 'audio',\n",
       "       'metis', 'metisdao', 'rune', 'sushi', 'sand', 'gala', 'ygg', 'bnb',\n",
       "       'bsv', 'palg', 'dydx', 'matic', 'avax', 'poly', 'coin98', 'iotx',\n",
       "       'sc', 'tup', '1inch', 'serum', 'waxp', 'ftm', 'spell', 'mpt',\n",
       "       'luna', 'usdp', 'dmz', 'ar', 'egld', 'icp', 'forex', 'hbar', 'okb',\n",
       "       'celo', 'ont', 'atom', 'omg', 'boba', 'c98', 'raca', 'shiba',\n",
       "       'movr', 'harmony', 'zil', 'cvx', 'crv', 'dana', 'tribe', 'cosmos',\n",
       "       'tex', 'yin', 'thorchain', 'gog', 'hnt', 'lrc', 'pyr', 'rndr',\n",
       "       'arrr', 'symbol', 'zen', 'vlx', 'uos', 'kda', 'cro', 'sandbox',\n",
       "       'ust', 'sys', 'kucoin', 'fil', 'ocean', 'ksm', 'sxp', 'bch', 'btt',\n",
       "       'scrt', 'secret', 'anyswap', 'glmr', 'tlos', 'klaytn', 'cel',\n",
       "       'dash', 'osmo', 'horizen', 'fx', 'srm', 'fxs', 'frax', 'usdn',\n",
       "       'alice', 'hedera', 'tusd', 'ant', 'paxg', 'nexo', 'ceek', 'xlm',\n",
       "       'gno', 'bat', 'lpt', 'safemoon', 'quant', 'kava', 'wbtc', 'snx',\n",
       "       'steth', 'livepeer', 'comp', 'rvn', 'ecash', 'coti', 'ultra',\n",
       "       'inj', 'mina', 'xtz', 'qnt', 'syscoin', 'icx', 'lusd', 'polymath',\n",
       "       'ldo', 'ftt', 'filecoin', 'enj', 'twt', 'fet', 'toncoin', 'aurora',\n",
       "       'ilv', 'storj', 'hive', 'ctsi', 'dent', 'neo', 'xdc', 'astar',\n",
       "       'everscale', 'ankr', 'theta', 'hot', 'stx', 'vet', 'telos', 'celr',\n",
       "       'klay', 'woo', 'yfi', 'xec', 'sapphire', 'nft1', 'wemix', 'xch',\n",
       "       'hex', 'rpl', 'xem', 'chsb', 'bitdao', 'kok', 'mob', 'glm', 'wrx',\n",
       "       'eos', 'uma', 'fei', 'conflux', 'xaut', 'leo', 'btcb', 'skl',\n",
       "       'xdb', 'ckb', 'digitalbits', 'swissborg', 'audius', 'xyo',\n",
       "       'loopring', 'mxc', 'vgx', 'powr', 'omi', 'flux', 'persistence',\n",
       "       'deso', 'golem', 'dcr'], dtype=object)"
      ]
     },
     "execution_count": 43,
     "metadata": {},
     "output_type": "execute_result"
    }
   ],
   "source": [
    "data.coin_id.unique()"
   ]
  },
  {
   "cell_type": "code",
   "execution_count": 85,
   "id": "7e9fe736",
   "metadata": {},
   "outputs": [
    {
     "data": {
      "text/plain": [
       "267"
      ]
     },
     "execution_count": 85,
     "metadata": {},
     "output_type": "execute_result"
    }
   ],
   "source": [
    "len(data.coin_id.unique())"
   ]
  },
  {
   "cell_type": "code",
   "execution_count": 65,
   "id": "74e5fefd",
   "metadata": {},
   "outputs": [],
   "source": [
    "apcoins = ['ZRX-USD', 'ZEC-USD', 'YFI-USD', 'WBTC-USD', 'UNI-USD', 'UMA-USD', 'SNX-USD',  'LINK-USD', 'KNC-USD', 'FIL-USD', 'ETH-USD', 'ETC-USD', 'DAI-USD', 'BTC-USD', 'ATOM-USD', 'AAVE-USD', \n",
    "'ALGO-USD']\n",
    "\n",
    "for i in range(len(apcoins)):\n",
    "    apcoins[i] = apcoins[i].split('-')[0].lower()\n"
   ]
  },
  {
   "cell_type": "code",
   "execution_count": 68,
   "id": "3bc6e8de",
   "metadata": {
    "collapsed": true
   },
   "outputs": [
    {
     "name": "stdout",
     "output_type": "stream",
     "text": [
      "zrx is a coin\n",
      "zec is a coin\n",
      "yfi is a coin\n",
      "wbtc is a coin\n",
      "uni is a coin\n",
      "uma is a coin\n",
      "snx is a coin\n",
      "link is a coin\n",
      "knc is a coin\n",
      "fil is a coin\n",
      "eth is a coin\n",
      "etc is a coin\n",
      "dai is a coin\n",
      "btc is a coin\n",
      "atom is a coin\n",
      "aave is a coin\n",
      "algo is a coin\n"
     ]
    }
   ],
   "source": [
    "for each in apcoins:\n",
    "    if each in data.coin_id.unique():\n",
    "        print(f'{each} is a coin')\n",
    "    else:\n",
    "        print(f'{each} is NOT a coin')"
   ]
  },
  {
   "cell_type": "code",
   "execution_count": 73,
   "id": "d7e96a23",
   "metadata": {},
   "outputs": [],
   "source": [
    "coincounts = data.groupby(data['coin_id']).size().reset_index(name='count')\n",
    "coincounts = coincounts[coincounts.coin_id.isin(apcoins)]\n",
    "# filtered_df = df[df['coin_id'].isin(apcoins)]\n",
    "coincounts = coincounts.reset_index()\n"
   ]
  },
  {
   "cell_type": "code",
   "execution_count": 84,
   "id": "d9ef4024",
   "metadata": {
    "scrolled": true
   },
   "outputs": [
    {
     "data": {
      "text/html": [
       "<div>\n",
       "<style scoped>\n",
       "    .dataframe tbody tr th:only-of-type {\n",
       "        vertical-align: middle;\n",
       "    }\n",
       "\n",
       "    .dataframe tbody tr th {\n",
       "        vertical-align: top;\n",
       "    }\n",
       "\n",
       "    .dataframe thead th {\n",
       "        text-align: right;\n",
       "    }\n",
       "</style>\n",
       "<table border=\"1\" class=\"dataframe\">\n",
       "  <thead>\n",
       "    <tr style=\"text-align: right;\">\n",
       "      <th></th>\n",
       "      <th>coin_id</th>\n",
       "      <th>count</th>\n",
       "    </tr>\n",
       "  </thead>\n",
       "  <tbody>\n",
       "    <tr>\n",
       "      <th>0</th>\n",
       "      <td>aave</td>\n",
       "      <td>74</td>\n",
       "    </tr>\n",
       "    <tr>\n",
       "      <th>1</th>\n",
       "      <td>algo</td>\n",
       "      <td>88</td>\n",
       "    </tr>\n",
       "    <tr>\n",
       "      <th>2</th>\n",
       "      <td>atom</td>\n",
       "      <td>61</td>\n",
       "    </tr>\n",
       "    <tr>\n",
       "      <th>3</th>\n",
       "      <td>btc</td>\n",
       "      <td>37401</td>\n",
       "    </tr>\n",
       "    <tr>\n",
       "      <th>4</th>\n",
       "      <td>dai</td>\n",
       "      <td>42</td>\n",
       "    </tr>\n",
       "    <tr>\n",
       "      <th>5</th>\n",
       "      <td>etc</td>\n",
       "      <td>165</td>\n",
       "    </tr>\n",
       "    <tr>\n",
       "      <th>6</th>\n",
       "      <td>eth</td>\n",
       "      <td>33249</td>\n",
       "    </tr>\n",
       "    <tr>\n",
       "      <th>7</th>\n",
       "      <td>fil</td>\n",
       "      <td>33</td>\n",
       "    </tr>\n",
       "    <tr>\n",
       "      <th>8</th>\n",
       "      <td>knc</td>\n",
       "      <td>4</td>\n",
       "    </tr>\n",
       "    <tr>\n",
       "      <th>9</th>\n",
       "      <td>link</td>\n",
       "      <td>475</td>\n",
       "    </tr>\n",
       "    <tr>\n",
       "      <th>10</th>\n",
       "      <td>snx</td>\n",
       "      <td>59</td>\n",
       "    </tr>\n",
       "    <tr>\n",
       "      <th>11</th>\n",
       "      <td>uma</td>\n",
       "      <td>23</td>\n",
       "    </tr>\n",
       "    <tr>\n",
       "      <th>12</th>\n",
       "      <td>uni</td>\n",
       "      <td>120</td>\n",
       "    </tr>\n",
       "    <tr>\n",
       "      <th>13</th>\n",
       "      <td>wbtc</td>\n",
       "      <td>80</td>\n",
       "    </tr>\n",
       "    <tr>\n",
       "      <th>14</th>\n",
       "      <td>yfi</td>\n",
       "      <td>40</td>\n",
       "    </tr>\n",
       "    <tr>\n",
       "      <th>15</th>\n",
       "      <td>zec</td>\n",
       "      <td>97</td>\n",
       "    </tr>\n",
       "    <tr>\n",
       "      <th>16</th>\n",
       "      <td>zrx</td>\n",
       "      <td>9</td>\n",
       "    </tr>\n",
       "  </tbody>\n",
       "</table>\n",
       "</div>"
      ],
      "text/plain": [
       "   coin_id  count\n",
       "0     aave     74\n",
       "1     algo     88\n",
       "2     atom     61\n",
       "3      btc  37401\n",
       "4      dai     42\n",
       "5      etc    165\n",
       "6      eth  33249\n",
       "7      fil     33\n",
       "8      knc      4\n",
       "9     link    475\n",
       "10     snx     59\n",
       "11     uma     23\n",
       "12     uni    120\n",
       "13    wbtc     80\n",
       "14     yfi     40\n",
       "15     zec     97\n",
       "16     zrx      9"
      ]
     },
     "execution_count": 84,
     "metadata": {},
     "output_type": "execute_result"
    }
   ],
   "source": [
    "'''The count of tweets per coin. Even assuming one tweet per day, we wont have full coverage. \n",
    "We cant impute 700/850 days'''\n",
    "\n",
    "coincounts = coincounts.drop(columns='index')\n",
    "coincounts"
   ]
  },
  {
   "cell_type": "code",
   "execution_count": 94,
   "id": "751418b2",
   "metadata": {},
   "outputs": [
    {
     "data": {
      "text/plain": [
       "['aave',\n",
       " 'algo',\n",
       " 'atom',\n",
       " 'btc',\n",
       " 'etc',\n",
       " 'eth',\n",
       " 'link',\n",
       " 'snx',\n",
       " 'uni',\n",
       " 'wbtc',\n",
       " 'zec']"
      ]
     },
     "execution_count": 94,
     "metadata": {},
     "output_type": "execute_result"
    }
   ],
   "source": [
    "# Drop off below a Threshold. 50-100 tweets minimum. \n",
    "\n",
    "subapcoins = [coin_id for coin_id, count in zip(coincounts['coin_id'], \n",
    "                                                coincounts['count']) if count > 50 ]\n",
    "subapcoins"
   ]
  },
  {
   "cell_type": "markdown",
   "id": "213c7574",
   "metadata": {},
   "source": [
    "if its not btc or eth, getting a daily score is TUFF. This is among the ones we see. "
   ]
  },
  {
   "cell_type": "code",
   "execution_count": 98,
   "id": "962ff4fa",
   "metadata": {},
   "outputs": [],
   "source": [
    "# Subset of the Data, that has both price and sentiment data, above threshold.\n",
    "subdata = data[data.coin_id.isin(subapcoins)]"
   ]
  },
  {
   "cell_type": "code",
   "execution_count": 99,
   "id": "f3859643",
   "metadata": {},
   "outputs": [],
   "source": [
    "# Calculate Weights of Each Coin, and Normalize.\n",
    "\n",
    "def calculate_weights(df):\n",
    "    # Count the number of tweets per coin\n",
    "    tweet_counts = df['coin_id'].value_counts()\n",
    "\n",
    "    # Calculate weights: Inverse of tweet count, normalized\n",
    "    weights = 1 / tweet_counts\n",
    "    normalized_weights = weights / weights.sum()\n",
    "\n",
    "    return normalized_weights\n",
    "\n",
    "weights = calculate_weights(subdata)\n"
   ]
  },
  {
   "cell_type": "code",
   "execution_count": 100,
   "id": "63e3740b",
   "metadata": {
    "scrolled": true
   },
   "outputs": [
    {
     "data": {
      "text/plain": [
       "btc     0.000274\n",
       "eth     0.000308\n",
       "link    0.021574\n",
       "etc     0.062106\n",
       "uni     0.085396\n",
       "zec     0.105644\n",
       "algo    0.116449\n",
       "wbtc    0.128093\n",
       "aave    0.138479\n",
       "atom    0.167991\n",
       "snx     0.173686\n",
       "Name: coin_id, dtype: float64"
      ]
     },
     "execution_count": 100,
     "metadata": {},
     "output_type": "execute_result"
    }
   ],
   "source": [
    "weights"
   ]
  },
  {
   "cell_type": "code",
   "execution_count": 103,
   "id": "d47aab58",
   "metadata": {},
   "outputs": [
    {
     "data": {
      "text/plain": [
       "\"OrderedDict([('neutral', 0.9376), ('positive', 0.0352), ('negative', 0.0272)])\""
      ]
     },
     "execution_count": 103,
     "metadata": {},
     "output_type": "execute_result"
    }
   ],
   "source": [
    "subdata.sentiment_probabilities[0]"
   ]
  },
  {
   "cell_type": "code",
   "execution_count": 107,
   "id": "767a0d53",
   "metadata": {},
   "outputs": [],
   "source": [
    "# Split up the Scores from Parth\n",
    "import re\n",
    "\n",
    "def extract_scores(sentiment_str):\n",
    "    \n",
    "    # Extract the part of the str within brackets\n",
    "    bracket_content = re.search(r\"\\[(.*?)\\]\", sentiment_str).group(1)\n",
    "    \n",
    "    # Find all num vals in the extracted str\n",
    "    scores = re.findall(r\"'([a-zA-Z]+)', ([0-9.]+)\", bracket_content)\n",
    "    \n",
    "    # Convert to dict\n",
    "    return {score[0]: float(score[1]) for score in scores}\n"
   ]
  },
  {
   "cell_type": "code",
   "execution_count": 108,
   "id": "41f7c173",
   "metadata": {},
   "outputs": [
    {
     "data": {
      "text/plain": [
       "{'neutral': 0.9376, 'positive': 0.0352, 'negative': 0.0272}"
      ]
     },
     "execution_count": 108,
     "metadata": {},
     "output_type": "execute_result"
    }
   ],
   "source": [
    "extract_scores(subdata.sentiment_probabilities[0])"
   ]
  },
  {
   "cell_type": "code",
   "execution_count": 109,
   "id": "bbbf2eef",
   "metadata": {},
   "outputs": [],
   "source": [
    "# Apply the function to each row and split into separate columns\n",
    "df_scores = subdata['sentiment_probabilities'].apply(lambda x: pd.Series(extract_scores(x)))\n",
    "\n",
    "subdata = pd.concat([subdata, df_scores], axis=1)\n",
    "\n",
    "# Drop the Sentiment Scores\n",
    "subdata.drop('sentiment_probabilities', axis=1, inplace=True)"
   ]
  },
  {
   "cell_type": "code",
   "execution_count": 110,
   "id": "1f3e73ac",
   "metadata": {
    "scrolled": true
   },
   "outputs": [
    {
     "data": {
      "text/html": [
       "<div>\n",
       "<style scoped>\n",
       "    .dataframe tbody tr th:only-of-type {\n",
       "        vertical-align: middle;\n",
       "    }\n",
       "\n",
       "    .dataframe tbody tr th {\n",
       "        vertical-align: top;\n",
       "    }\n",
       "\n",
       "    .dataframe thead th {\n",
       "        text-align: right;\n",
       "    }\n",
       "</style>\n",
       "<table border=\"1\" class=\"dataframe\">\n",
       "  <thead>\n",
       "    <tr style=\"text-align: right;\">\n",
       "      <th></th>\n",
       "      <th>created_at</th>\n",
       "      <th>like_count</th>\n",
       "      <th>quote_count</th>\n",
       "      <th>reply_count</th>\n",
       "      <th>retweet_count</th>\n",
       "      <th>full_text</th>\n",
       "      <th>coin_id</th>\n",
       "      <th>datasource</th>\n",
       "      <th>clean_text</th>\n",
       "      <th>highest_prob_label</th>\n",
       "      <th>neutral</th>\n",
       "      <th>positive</th>\n",
       "      <th>negative</th>\n",
       "    </tr>\n",
       "  </thead>\n",
       "  <tbody>\n",
       "    <tr>\n",
       "      <th>0</th>\n",
       "      <td>2021-02-01</td>\n",
       "      <td>154</td>\n",
       "      <td>NaN</td>\n",
       "      <td>18</td>\n",
       "      <td>23</td>\n",
       "      <td>#privacy is a human right. learn how to make y...</td>\n",
       "      <td>btc</td>\n",
       "      <td>influtweets</td>\n",
       "      <td>privacy human right learn make bitcoin transac...</td>\n",
       "      <td>neutral</td>\n",
       "      <td>0.9376</td>\n",
       "      <td>0.0352</td>\n",
       "      <td>0.0272</td>\n",
       "    </tr>\n",
       "    <tr>\n",
       "      <th>2</th>\n",
       "      <td>2021-02-01</td>\n",
       "      <td>65</td>\n",
       "      <td>NaN</td>\n",
       "      <td>8</td>\n",
       "      <td>13</td>\n",
       "      <td>attended any of the 30+ livestream events iâ...</td>\n",
       "      <td>btc</td>\n",
       "      <td>influtweets</td>\n",
       "      <td>attended 30 livestream event ive held last yea...</td>\n",
       "      <td>neutral</td>\n",
       "      <td>0.8426</td>\n",
       "      <td>0.1452</td>\n",
       "      <td>0.0122</td>\n",
       "    </tr>\n",
       "    <tr>\n",
       "      <th>3</th>\n",
       "      <td>2021-02-01</td>\n",
       "      <td>65</td>\n",
       "      <td>NaN</td>\n",
       "      <td>8</td>\n",
       "      <td>13</td>\n",
       "      <td>attended any of the 30+ livestream events iâ...</td>\n",
       "      <td>eth</td>\n",
       "      <td>influtweets</td>\n",
       "      <td>attended 30 livestream event ive held last yea...</td>\n",
       "      <td>neutral</td>\n",
       "      <td>0.8426</td>\n",
       "      <td>0.1452</td>\n",
       "      <td>0.0122</td>\n",
       "    </tr>\n",
       "    <tr>\n",
       "      <th>5</th>\n",
       "      <td>2021-02-01</td>\n",
       "      <td>7</td>\n",
       "      <td>NaN</td>\n",
       "      <td>0</td>\n",
       "      <td>2</td>\n",
       "      <td>the grayscale premium represents the differenc...</td>\n",
       "      <td>btc</td>\n",
       "      <td>influtweets</td>\n",
       "      <td>grayscale premium represents difference market...</td>\n",
       "      <td>negative</td>\n",
       "      <td>0.0187</td>\n",
       "      <td>0.0199</td>\n",
       "      <td>0.9614</td>\n",
       "    </tr>\n",
       "    <tr>\n",
       "      <th>6</th>\n",
       "      <td>2021-02-01</td>\n",
       "      <td>0</td>\n",
       "      <td>NaN</td>\n",
       "      <td>0</td>\n",
       "      <td>7</td>\n",
       "      <td>rt @reg_mati: la privacidad es un derecho huma...</td>\n",
       "      <td>btc</td>\n",
       "      <td>influtweets</td>\n",
       "      <td>rt la privacidad e un derecho humano mir el vi...</td>\n",
       "      <td>positive</td>\n",
       "      <td>0.3311</td>\n",
       "      <td>0.6332</td>\n",
       "      <td>0.0357</td>\n",
       "    </tr>\n",
       "    <tr>\n",
       "      <th>...</th>\n",
       "      <td>...</td>\n",
       "      <td>...</td>\n",
       "      <td>...</td>\n",
       "      <td>...</td>\n",
       "      <td>...</td>\n",
       "      <td>...</td>\n",
       "      <td>...</td>\n",
       "      <td>...</td>\n",
       "      <td>...</td>\n",
       "      <td>...</td>\n",
       "      <td>...</td>\n",
       "      <td>...</td>\n",
       "      <td>...</td>\n",
       "    </tr>\n",
       "    <tr>\n",
       "      <th>272418</th>\n",
       "      <td>2023-06-12</td>\n",
       "      <td>7718</td>\n",
       "      <td>NaN</td>\n",
       "      <td>614</td>\n",
       "      <td>1759</td>\n",
       "      <td>just in: ð¨ð³ chinese bank boci issues cou...</td>\n",
       "      <td>eth</td>\n",
       "      <td>influtweets</td>\n",
       "      <td>chinese bank boci issue country first tokenize...</td>\n",
       "      <td>neutral</td>\n",
       "      <td>0.9290</td>\n",
       "      <td>0.0568</td>\n",
       "      <td>0.0141</td>\n",
       "    </tr>\n",
       "    <tr>\n",
       "      <th>272424</th>\n",
       "      <td>2023-06-12</td>\n",
       "      <td>1</td>\n",
       "      <td>NaN</td>\n",
       "      <td>9</td>\n",
       "      <td>0</td>\n",
       "      <td>new gap cme - 26400 ð\\n\\nno better time to ...</td>\n",
       "      <td>eth</td>\n",
       "      <td>influtweets</td>\n",
       "      <td>new gap cme 26400 not_ better time join 60 cli...</td>\n",
       "      <td>neutral</td>\n",
       "      <td>0.9177</td>\n",
       "      <td>0.0470</td>\n",
       "      <td>0.0353</td>\n",
       "    </tr>\n",
       "    <tr>\n",
       "      <th>272425</th>\n",
       "      <td>2023-06-12</td>\n",
       "      <td>1</td>\n",
       "      <td>NaN</td>\n",
       "      <td>9</td>\n",
       "      <td>0</td>\n",
       "      <td>new gap cme - 26400 ð\\n\\nno better time to ...</td>\n",
       "      <td>btc</td>\n",
       "      <td>influtweets</td>\n",
       "      <td>new gap cme 26400 not_ better time join 60 cli...</td>\n",
       "      <td>neutral</td>\n",
       "      <td>0.9177</td>\n",
       "      <td>0.0470</td>\n",
       "      <td>0.0353</td>\n",
       "    </tr>\n",
       "    <tr>\n",
       "      <th>272434</th>\n",
       "      <td>2023-06-12</td>\n",
       "      <td>0</td>\n",
       "      <td>NaN</td>\n",
       "      <td>0</td>\n",
       "      <td>8</td>\n",
       "      <td>rt @crypto_crib_: ð²chinese bank boci issues...</td>\n",
       "      <td>eth</td>\n",
       "      <td>influtweets</td>\n",
       "      <td>rt chinese bank boci issue country first token...</td>\n",
       "      <td>neutral</td>\n",
       "      <td>0.9210</td>\n",
       "      <td>0.0659</td>\n",
       "      <td>0.0131</td>\n",
       "    </tr>\n",
       "    <tr>\n",
       "      <th>272435</th>\n",
       "      <td>2023-06-12</td>\n",
       "      <td>56</td>\n",
       "      <td>NaN</td>\n",
       "      <td>16</td>\n",
       "      <td>7</td>\n",
       "      <td>bitcoin, not crypto.\\n\\ncrypto, not security.</td>\n",
       "      <td>btc</td>\n",
       "      <td>influtweets</td>\n",
       "      <td>bitcoin not_ crypto crypto not_ security</td>\n",
       "      <td>neutral</td>\n",
       "      <td>0.9366</td>\n",
       "      <td>0.0227</td>\n",
       "      <td>0.0408</td>\n",
       "    </tr>\n",
       "  </tbody>\n",
       "</table>\n",
       "<p>71869 rows × 13 columns</p>\n",
       "</div>"
      ],
      "text/plain": [
       "       created_at  like_count  quote_count  reply_count  retweet_count  \\\n",
       "0      2021-02-01         154          NaN           18             23   \n",
       "2      2021-02-01          65          NaN            8             13   \n",
       "3      2021-02-01          65          NaN            8             13   \n",
       "5      2021-02-01           7          NaN            0              2   \n",
       "6      2021-02-01           0          NaN            0              7   \n",
       "...           ...         ...          ...          ...            ...   \n",
       "272418 2023-06-12        7718          NaN          614           1759   \n",
       "272424 2023-06-12           1          NaN            9              0   \n",
       "272425 2023-06-12           1          NaN            9              0   \n",
       "272434 2023-06-12           0          NaN            0              8   \n",
       "272435 2023-06-12          56          NaN           16              7   \n",
       "\n",
       "                                                full_text coin_id  \\\n",
       "0       #privacy is a human right. learn how to make y...     btc   \n",
       "2       attended any of the 30+ livestream events iâ...     btc   \n",
       "3       attended any of the 30+ livestream events iâ...     eth   \n",
       "5       the grayscale premium represents the differenc...     btc   \n",
       "6       rt @reg_mati: la privacidad es un derecho huma...     btc   \n",
       "...                                                   ...     ...   \n",
       "272418  just in: ð¨ð³ chinese bank boci issues cou...     eth   \n",
       "272424  new gap cme - 26400 ð\\n\\nno better time to ...     eth   \n",
       "272425  new gap cme - 26400 ð\\n\\nno better time to ...     btc   \n",
       "272434  rt @crypto_crib_: ð²chinese bank boci issues...     eth   \n",
       "272435      bitcoin, not crypto.\\n\\ncrypto, not security.     btc   \n",
       "\n",
       "         datasource                                         clean_text  \\\n",
       "0       influtweets  privacy human right learn make bitcoin transac...   \n",
       "2       influtweets  attended 30 livestream event ive held last yea...   \n",
       "3       influtweets  attended 30 livestream event ive held last yea...   \n",
       "5       influtweets  grayscale premium represents difference market...   \n",
       "6       influtweets  rt la privacidad e un derecho humano mir el vi...   \n",
       "...             ...                                                ...   \n",
       "272418  influtweets  chinese bank boci issue country first tokenize...   \n",
       "272424  influtweets  new gap cme 26400 not_ better time join 60 cli...   \n",
       "272425  influtweets  new gap cme 26400 not_ better time join 60 cli...   \n",
       "272434  influtweets  rt chinese bank boci issue country first token...   \n",
       "272435  influtweets           bitcoin not_ crypto crypto not_ security   \n",
       "\n",
       "       highest_prob_label  neutral  positive  negative  \n",
       "0                 neutral   0.9376    0.0352    0.0272  \n",
       "2                 neutral   0.8426    0.1452    0.0122  \n",
       "3                 neutral   0.8426    0.1452    0.0122  \n",
       "5                negative   0.0187    0.0199    0.9614  \n",
       "6                positive   0.3311    0.6332    0.0357  \n",
       "...                   ...      ...       ...       ...  \n",
       "272418            neutral   0.9290    0.0568    0.0141  \n",
       "272424            neutral   0.9177    0.0470    0.0353  \n",
       "272425            neutral   0.9177    0.0470    0.0353  \n",
       "272434            neutral   0.9210    0.0659    0.0131  \n",
       "272435            neutral   0.9366    0.0227    0.0408  \n",
       "\n",
       "[71869 rows x 13 columns]"
      ]
     },
     "execution_count": 110,
     "metadata": {},
     "output_type": "execute_result"
    }
   ],
   "source": [
    "subdata"
   ]
  },
  {
   "cell_type": "code",
   "execution_count": 111,
   "id": "5b654845",
   "metadata": {},
   "outputs": [
    {
     "name": "stderr",
     "output_type": "stream",
     "text": [
      "/var/folders/02/ctjwmbv97xn4qlw4lrnhy6240000gn/T/ipykernel_7513/1538793545.py:6: FutureWarning: The default value of numeric_only in DataFrameGroupBy.mean is deprecated. In a future version, numeric_only will default to False. Either specify numeric_only or select only columns which should be valid for the function.\n",
      "  daily_scores = df.groupby(['created_at', 'coin_id']).mean()\n"
     ]
    }
   ],
   "source": [
    "# Return the Daily Weighted Score Per Coin\n",
    "\n",
    "def weighted_sentiment(df, weights):\n",
    "    \n",
    "    # Calculate daily sentiment scores per coin\n",
    "    daily_scores = df.groupby(['created_at', 'coin_id']).mean()\n",
    "\n",
    "    # Apply weights to the sentiment scores\n",
    "    for coin in weights.index:\n",
    "        daily_scores.loc[daily_scores.index.get_level_values('coin_id') == coin, ['positive', \n",
    "                                                                               'negative', \n",
    "                                                                               'neutral']] *= weights[coin]\n",
    "\n",
    "    # Sum the weighted scores for each day\n",
    "    daily_weighted_scores = daily_scores.groupby(level='created_at').sum()\n",
    "\n",
    "    return daily_weighted_scores\n",
    "\n",
    "daily_weighted_scores = weighted_sentiment(subdata, weights)\n"
   ]
  },
  {
   "cell_type": "code",
   "execution_count": 118,
   "id": "0ddc93ce",
   "metadata": {
    "scrolled": true
   },
   "outputs": [
    {
     "data": {
      "text/html": [
       "<div>\n",
       "<style scoped>\n",
       "    .dataframe tbody tr th:only-of-type {\n",
       "        vertical-align: middle;\n",
       "    }\n",
       "\n",
       "    .dataframe tbody tr th {\n",
       "        vertical-align: top;\n",
       "    }\n",
       "\n",
       "    .dataframe thead th {\n",
       "        text-align: right;\n",
       "    }\n",
       "</style>\n",
       "<table border=\"1\" class=\"dataframe\">\n",
       "  <thead>\n",
       "    <tr style=\"text-align: right;\">\n",
       "      <th></th>\n",
       "      <th>neutral</th>\n",
       "      <th>positive</th>\n",
       "      <th>negative</th>\n",
       "    </tr>\n",
       "    <tr>\n",
       "      <th>created_at</th>\n",
       "      <th></th>\n",
       "      <th></th>\n",
       "      <th></th>\n",
       "    </tr>\n",
       "  </thead>\n",
       "  <tbody>\n",
       "    <tr>\n",
       "      <th>2021-02-01</th>\n",
       "      <td>0.000402</td>\n",
       "      <td>0.000125</td>\n",
       "      <td>0.000055</td>\n",
       "    </tr>\n",
       "    <tr>\n",
       "      <th>2021-02-02</th>\n",
       "      <td>0.000523</td>\n",
       "      <td>0.000042</td>\n",
       "      <td>0.000017</td>\n",
       "    </tr>\n",
       "    <tr>\n",
       "      <th>2021-02-03</th>\n",
       "      <td>0.019886</td>\n",
       "      <td>0.001958</td>\n",
       "      <td>0.000311</td>\n",
       "    </tr>\n",
       "    <tr>\n",
       "      <th>2021-02-04</th>\n",
       "      <td>0.000453</td>\n",
       "      <td>0.000056</td>\n",
       "      <td>0.000073</td>\n",
       "    </tr>\n",
       "    <tr>\n",
       "      <th>2021-02-05</th>\n",
       "      <td>0.050874</td>\n",
       "      <td>0.086177</td>\n",
       "      <td>0.002010</td>\n",
       "    </tr>\n",
       "    <tr>\n",
       "      <th>...</th>\n",
       "      <td>...</td>\n",
       "      <td>...</td>\n",
       "      <td>...</td>\n",
       "    </tr>\n",
       "    <tr>\n",
       "      <th>2023-06-08</th>\n",
       "      <td>0.345967</td>\n",
       "      <td>0.045704</td>\n",
       "      <td>0.053157</td>\n",
       "    </tr>\n",
       "    <tr>\n",
       "      <th>2023-06-09</th>\n",
       "      <td>0.052689</td>\n",
       "      <td>0.009036</td>\n",
       "      <td>0.022535</td>\n",
       "    </tr>\n",
       "    <tr>\n",
       "      <th>2023-06-10</th>\n",
       "      <td>0.272347</td>\n",
       "      <td>0.023615</td>\n",
       "      <td>0.072739</td>\n",
       "    </tr>\n",
       "    <tr>\n",
       "      <th>2023-06-11</th>\n",
       "      <td>0.316415</td>\n",
       "      <td>0.044906</td>\n",
       "      <td>0.007392</td>\n",
       "    </tr>\n",
       "    <tr>\n",
       "      <th>2023-06-12</th>\n",
       "      <td>0.215325</td>\n",
       "      <td>0.034280</td>\n",
       "      <td>0.089585</td>\n",
       "    </tr>\n",
       "  </tbody>\n",
       "</table>\n",
       "<p>815 rows × 3 columns</p>\n",
       "</div>"
      ],
      "text/plain": [
       "             neutral  positive  negative\n",
       "created_at                              \n",
       "2021-02-01  0.000402  0.000125  0.000055\n",
       "2021-02-02  0.000523  0.000042  0.000017\n",
       "2021-02-03  0.019886  0.001958  0.000311\n",
       "2021-02-04  0.000453  0.000056  0.000073\n",
       "2021-02-05  0.050874  0.086177  0.002010\n",
       "...              ...       ...       ...\n",
       "2023-06-08  0.345967  0.045704  0.053157\n",
       "2023-06-09  0.052689  0.009036  0.022535\n",
       "2023-06-10  0.272347  0.023615  0.072739\n",
       "2023-06-11  0.316415  0.044906  0.007392\n",
       "2023-06-12  0.215325  0.034280  0.089585\n",
       "\n",
       "[815 rows x 3 columns]"
      ]
     },
     "execution_count": 118,
     "metadata": {},
     "output_type": "execute_result"
    }
   ],
   "source": [
    "# Some redundant cols got caught up. Process err\n",
    "\n",
    "daily_weighted_scores = daily_weighted_scores.drop(columns=['like_count',\n",
    "                                                            'quote_count',\n",
    "                                                            'reply_count',\n",
    "                                                            'retweet_count'] )\n",
    "daily_weighted_scores"
   ]
  },
  {
   "cell_type": "markdown",
   "id": "da4657a7",
   "metadata": {},
   "source": [
    "In the process of calculating the daily weighted sentiment scores for our analysis, we employed a method where each coin's daily sentiment score (positive, negative, neutral) was multiplied by a weight inversely proportional to its overall tweet volume. This approach was designed to ensure a balanced representation of each coin in the aggregated sentiment score, particularly giving more weight to coins with fewer tweets. As a consequence of this weighting method, the aggregated daily sentiment scores across neutral, positive, and negative categories do not necessarily sum up to 1 for each day. This is because the weights are applied independently to each sentiment category rather than to their collective sum. Therefore, the resulting sentiment scores should be interpreted as indicators of general sentiment trends across all coins considered each day, rather than as exact probabilities that would add up to 100%. This approach was chosen to accurately reflect the varying influence of each coin's sentiment on the overall market sentiment, given the disparities in tweet volumes."
   ]
  },
  {
   "cell_type": "code",
   "execution_count": 121,
   "id": "ebe8e51a",
   "metadata": {},
   "outputs": [],
   "source": [
    "# Save DF to CSV. \n",
    "\n",
    "daily_weighted_scores.to_csv('./daily_weighted_scores.csv',)"
   ]
  },
  {
   "cell_type": "code",
   "execution_count": 126,
   "id": "cef8d284",
   "metadata": {},
   "outputs": [
    {
     "data": {
      "text/plain": [
       "['aave',\n",
       " 'algo',\n",
       " 'atom',\n",
       " 'btc',\n",
       " 'etc',\n",
       " 'eth',\n",
       " 'link',\n",
       " 'snx',\n",
       " 'uni',\n",
       " 'wbtc',\n",
       " 'zec']"
      ]
     },
     "execution_count": 126,
     "metadata": {},
     "output_type": "execute_result"
    }
   ],
   "source": [
    "subapcoins"
   ]
  },
  {
   "cell_type": "code",
   "execution_count": 127,
   "id": "60e7a0ac",
   "metadata": {},
   "outputs": [
    {
     "data": {
      "text/plain": [
       "71869"
      ]
     },
     "execution_count": 127,
     "metadata": {},
     "output_type": "execute_result"
    }
   ],
   "source": [
    "len(subdata)"
   ]
  },
  {
   "cell_type": "code",
   "execution_count": 134,
   "id": "ff769d07",
   "metadata": {
    "scrolled": true
   },
   "outputs": [
    {
     "data": {
      "text/plain": [
       "{'btc': 0.00027398926320121655,\n",
       " 'eth': 0.00030820392892985356,\n",
       " 'link': 0.021573626174713055,\n",
       " 'etc': 0.06210589353326485,\n",
       " 'uni': 0.08539560360823917,\n",
       " 'zec': 0.10564404570091444,\n",
       " 'algo': 0.1164485503748716,\n",
       " 'wbtc': 0.12809340541235878,\n",
       " 'aave': 0.13847935720255003,\n",
       " 'atom': 0.16799135136047053,\n",
       " 'snx': 0.17368597344048645}"
      ]
     },
     "execution_count": 134,
     "metadata": {},
     "output_type": "execute_result"
    }
   ],
   "source": [
    "# weights for random forrest\n",
    "weightsdict = weights.to_dict()\n",
    "weightsdict"
   ]
  },
  {
   "cell_type": "code",
   "execution_count": 136,
   "id": "e46fb439",
   "metadata": {},
   "outputs": [
    {
     "data": {
      "text/plain": [
       "Index(['created_at', 'like_count', 'quote_count', 'reply_count',\n",
       "       'retweet_count', 'full_text', 'coin_id', 'datasource', 'clean_text',\n",
       "       'highest_prob_label', 'neutral', 'positive', 'negative'],\n",
       "      dtype='object')"
      ]
     },
     "execution_count": 136,
     "metadata": {},
     "output_type": "execute_result"
    }
   ],
   "source": [
    "subdata.columns"
   ]
  },
  {
   "cell_type": "code",
   "execution_count": 137,
   "id": "711d6873",
   "metadata": {},
   "outputs": [
    {
     "name": "stderr",
     "output_type": "stream",
     "text": [
      "/var/folders/02/ctjwmbv97xn4qlw4lrnhy6240000gn/T/ipykernel_7513/2419201361.py:6: FutureWarning: The default value of numeric_only in DataFrameGroupBy.mean is deprecated. In a future version, numeric_only will default to False. Either specify numeric_only or select only columns which should be valid for the function.\n",
      "  daily_scores = df.groupby(['created_at', 'coin_id']).mean()\n"
     ]
    }
   ],
   "source": [
    "# Appended. I want a clean average that includes the coins, NOT weighted on the Tweet volume. \n",
    "\n",
    "\n",
    "def average_sentiment(df):\n",
    "    # Calculate daily average sentiment scores per coin\n",
    "    daily_scores = df.groupby(['created_at', 'coin_id']).mean()\n",
    "\n",
    "    # Calculate the average scores for each sentiment category for each day\n",
    "    daily_average_scores = daily_scores.groupby(level='created_at').mean()\n",
    "\n",
    "    return daily_average_scores\n",
    "\n",
    "# Example usage:\n",
    "daily_average_scores = average_sentiment(subdata)"
   ]
  },
  {
   "cell_type": "code",
   "execution_count": 145,
   "id": "d46243fb",
   "metadata": {},
   "outputs": [],
   "source": [
    "\n",
    "daily_average_scores = daily_average_scores.drop(columns=['like_count',\n",
    "                                                          'reply_count',\n",
    "                                                          'quote_count',\n",
    "                                                          'retweet_count'])\n",
    "\n"
   ]
  },
  {
   "cell_type": "code",
   "execution_count": 148,
   "id": "85b70c04",
   "metadata": {},
   "outputs": [],
   "source": [
    "daily_average_scores.to_csv('./daily_average_scores.csv')"
   ]
  },
  {
   "cell_type": "code",
   "execution_count": null,
   "id": "6193d96f",
   "metadata": {},
   "outputs": [],
   "source": []
  }
 ],
 "metadata": {
  "kernelspec": {
   "display_name": "Python 3 (ipykernel)",
   "language": "python",
   "name": "python3"
  },
  "language_info": {
   "codemirror_mode": {
    "name": "ipython",
    "version": 3
   },
   "file_extension": ".py",
   "mimetype": "text/x-python",
   "name": "python",
   "nbconvert_exporter": "python",
   "pygments_lexer": "ipython3",
   "version": "3.10.9"
  }
 },
 "nbformat": 4,
 "nbformat_minor": 5
}
